{
 "cells": [
  {
   "cell_type": "markdown",
   "metadata": {},
   "source": [
    "# Database to Class definitions\n",
    "https://docs.sqlalchemy.org/en/13/orm/index.html  \n",
    "https://docs.sqlalchemy.org/en/13/contents.html  "
   ]
  },
  {
   "cell_type": "code",
   "execution_count": 97,
   "metadata": {},
   "outputs": [
    {
     "name": "stdout",
     "output_type": "stream",
     "text": [
      "Populating the interactive namespace from numpy and matplotlib\n"
     ]
    }
   ],
   "source": [
    "%pylab inline\n",
    "\n",
    "from pprint import pprint"
   ]
  },
  {
   "cell_type": "code",
   "execution_count": 205,
   "metadata": {},
   "outputs": [
    {
     "data": {
      "text/plain": [
       "'sqlite:///C:\\\\Users\\\\Wei\\\\Dropbox\\\\Coding\\\\notebooks\\\\專案\\\\已完成\\\\Bridges\\\\bitbucket\\\\github\\\\codes\\\\bridges\\\\universal_serial_bus\\\\spec\\\\db\\\\usb_2_0.sqlite'"
      ]
     },
     "execution_count": 205,
     "metadata": {},
     "output_type": "execute_result"
    }
   ],
   "source": [
    "db_path = 'C:\\\\Users\\\\Wei\\\\Dropbox\\\\Coding\\\\notebooks\\\\專案\\\\已完成\\\\Bridges\\\\bitbucket\\\\github\\\\codes\\\\bridges\\\\universal_serial_bus\\\\spec\\\\db\\\\usb_2_0.sqlite'\n",
    "db_url = 'sqlite:///' + db_path\n",
    "db_url"
   ]
  },
  {
   "cell_type": "code",
   "execution_count": 271,
   "metadata": {},
   "outputs": [],
   "source": [
    "from sqlalchemy import create_engine, MetaData, Table\n",
    "\n",
    "\n",
    "\n",
    "class ModelBuilder:\n",
    "    INDENT = '    '\n",
    "\n",
    "\n",
    "    @classmethod\n",
    "    def _camel_case(cls, str_underscored):\n",
    "        return ''.join([part.capitalize() for part in str_underscored.split('_')])\n",
    "\n",
    "\n",
    "    @classmethod\n",
    "    def get_tables(cls, db_url):\n",
    "        engine = create_engine(db_url, echo = False)\n",
    "        meta = MetaData(bind = engine)\n",
    "        meta.reflect()\n",
    "        return [Table(table, meta) for table in meta.tables]\n",
    "\n",
    "\n",
    "    @classmethod\n",
    "    def gen_objects(cls, db_url):\n",
    "        print()\n",
    "        print('engine = create_engine(\"{}\", echo = False)'.format(db_url.replace('\\\\', '\\\\\\\\')))\n",
    "        print('meta = MetaData(bind = engine)')\n",
    "        print('meta.reflect()')\n",
    "        print('tables = [Table(table, meta) for table in meta.tables]')\n",
    "        print('Session = sessionmaker(bind=engine)')\n",
    "        print('session = Session()')\n",
    "        print()\n",
    "\n",
    "\n",
    "    @classmethod\n",
    "    def gen_imports(cls):\n",
    "        print('from sqlalchemy import create_engine, MetaData, Table')\n",
    "        print('from sqlalchemy.orm import mapper, sessionmaker')\n",
    "        print()\n",
    "\n",
    "\n",
    "    @classmethod\n",
    "    def gen_class_difinition(cls, table):\n",
    "        fields = [column.name for column in table.columns if not column.primary_key]\n",
    "\n",
    "        class_name = cls._camel_case(table.name)\n",
    "        class_str = ['class {}:\\n'.format(class_name),\n",
    "                     cls.INDENT + 'def __init__(self, {}):\\n'.format(', '.join(fields))]\n",
    "        class_str.extend([cls.INDENT + cls.INDENT + 'self.{0} = {0}'.format(field) for field in fields])\n",
    "        class_str = '\\n'.join(class_str)\n",
    "\n",
    "        print()\n",
    "        print(class_str)\n",
    "        print()\n",
    "\n",
    "\n",
    "    @classmethod\n",
    "    def gen_classes_difinitions_from_tables(cls, db_url):\n",
    "        tables = cls.get_tables(db_url)\n",
    "        for t in tables:\n",
    "            cls.gen_class_difinition(t)\n",
    "\n",
    "\n",
    "    @classmethod\n",
    "    def gen_mapping_strings_from_tables(cls, db_url):\n",
    "        tables = cls.get_tables(db_url)\n",
    "\n",
    "        print()\n",
    "        for i in range(len(tables)):\n",
    "            print('{} = tables[{}]'.format(tables[i].name, i))\n",
    "\n",
    "        print()\n",
    "        for t in tables:\n",
    "            print('mapper({}, {})'.format(cls._camel_case(t.name), t.name))\n",
    "\n",
    "        print()\n",
    "\n",
    "\n",
    "    @classmethod\n",
    "    def gen_all(cls, db_url):\n",
    "        cls.gen_imports()\n",
    "        cls.gen_classes_difinitions_from_tables(db_url)\n",
    "        cls.gen_objects(db_url)\n",
    "        cls.gen_mapping_strings_from_tables(db_url)\n"
   ]
  },
  {
   "cell_type": "code",
   "execution_count": 272,
   "metadata": {
    "scrolled": false
   },
   "outputs": [
    {
     "name": "stdout",
     "output_type": "stream",
     "text": [
      "from sqlalchemy import create_engine, MetaData, Table\n",
      "from sqlalchemy.orm import mapper, sessionmaker\n",
      "\n",
      "\n",
      "class DscptConfiguration:\n",
      "\n",
      "    def __init__(self, device_id, bLength, bDescriptorType, wTotalLength, bNumInterfaces, bConfigurationValue, iConfiguration, bmAttributes, bMaxPower):\n",
      "\n",
      "        self.device_id = device_id\n",
      "        self.bLength = bLength\n",
      "        self.bDescriptorType = bDescriptorType\n",
      "        self.wTotalLength = wTotalLength\n",
      "        self.bNumInterfaces = bNumInterfaces\n",
      "        self.bConfigurationValue = bConfigurationValue\n",
      "        self.iConfiguration = iConfiguration\n",
      "        self.bmAttributes = bmAttributes\n",
      "        self.bMaxPower = bMaxPower\n",
      "\n",
      "\n",
      "class DscptDevice:\n",
      "\n",
      "    def __init__(self, device_id, bLength, bDescriptorType, bcdUSB, bDeviceClass, bDeviceSubClass, bDeviceProtocol, bMaxPacketSize0, idVendor, idProduct, bcdDevice, iManufacturer, iProduct, iSerialNumber, bNumConfigurations):\n",
      "\n",
      "        self.device_id = device_id\n",
      "        self.bLength = bLength\n",
      "        self.bDescriptorType = bDescriptorType\n",
      "        self.bcdUSB = bcdUSB\n",
      "        self.bDeviceClass = bDeviceClass\n",
      "        self.bDeviceSubClass = bDeviceSubClass\n",
      "        self.bDeviceProtocol = bDeviceProtocol\n",
      "        self.bMaxPacketSize0 = bMaxPacketSize0\n",
      "        self.idVendor = idVendor\n",
      "        self.idProduct = idProduct\n",
      "        self.bcdDevice = bcdDevice\n",
      "        self.iManufacturer = iManufacturer\n",
      "        self.iProduct = iProduct\n",
      "        self.iSerialNumber = iSerialNumber\n",
      "        self.bNumConfigurations = bNumConfigurations\n",
      "\n",
      "\n",
      "class DscptEndpoint:\n",
      "\n",
      "    def __init__(self, device_id, bConfigurationValue, bInterfaceNumber, bAlternateSetting, bLength, bDescriptorType, bEndpointAddress, bmAttributes, wMaxPacketSize, bInterval):\n",
      "\n",
      "        self.device_id = device_id\n",
      "        self.bConfigurationValue = bConfigurationValue\n",
      "        self.bInterfaceNumber = bInterfaceNumber\n",
      "        self.bAlternateSetting = bAlternateSetting\n",
      "        self.bLength = bLength\n",
      "        self.bDescriptorType = bDescriptorType\n",
      "        self.bEndpointAddress = bEndpointAddress\n",
      "        self.bmAttributes = bmAttributes\n",
      "        self.wMaxPacketSize = wMaxPacketSize\n",
      "        self.bInterval = bInterval\n",
      "\n",
      "\n",
      "class DscptInterface:\n",
      "\n",
      "    def __init__(self, device_id, bConfigurationValue, bLength, bDescriptorType, bInterfaceNumber, bAlternateSetting, bNumEndpoints, bInterfaceClass, bInterfaceSubClass, bInterfaceProtocol, iInterface):\n",
      "\n",
      "        self.device_id = device_id\n",
      "        self.bConfigurationValue = bConfigurationValue\n",
      "        self.bLength = bLength\n",
      "        self.bDescriptorType = bDescriptorType\n",
      "        self.bInterfaceNumber = bInterfaceNumber\n",
      "        self.bAlternateSetting = bAlternateSetting\n",
      "        self.bNumEndpoints = bNumEndpoints\n",
      "        self.bInterfaceClass = bInterfaceClass\n",
      "        self.bInterfaceSubClass = bInterfaceSubClass\n",
      "        self.bInterfaceProtocol = bInterfaceProtocol\n",
      "        self.iInterface = iInterface\n",
      "\n",
      "\n",
      "class DscptString:\n",
      "\n",
      "    def __init__(self, device_id, bLength, bDescriptorType, bString):\n",
      "\n",
      "        self.device_id = device_id\n",
      "        self.bLength = bLength\n",
      "        self.bDescriptorType = bDescriptorType\n",
      "        self.bString = bString\n",
      "\n",
      "\n",
      "class DscptStringLangId:\n",
      "\n",
      "    def __init__(self, device_id, bLength, bDescriptorType, wLANGID):\n",
      "\n",
      "        self.device_id = device_id\n",
      "        self.bLength = bLength\n",
      "        self.bDescriptorType = bDescriptorType\n",
      "        self.wLANGID = wLANGID\n",
      "\n",
      "\n",
      "class UsbDevice:\n",
      "\n",
      "    def __init__(self, name, description):\n",
      "\n",
      "        self.name = name\n",
      "        self.description = description\n",
      "\n",
      "\n",
      "engine = create_engine(\"sqlite:///C:\\\\Users\\\\Wei\\\\Dropbox\\\\Coding\\\\notebooks\\\\專案\\\\已完成\\\\Bridges\\\\bitbucket\\\\github\\\\codes\\\\bridges\\\\universal_serial_bus\\\\spec\\\\db\\\\usb_2_0.sqlite\", echo = False)\n",
      "meta = MetaData(bind = engine)\n",
      "meta.reflect()\n",
      "tables = [Table(table, meta) for table in meta.tables]\n",
      "Session = sessionmaker(bind=engine)\n",
      "session = Session()\n",
      "\n",
      "\n",
      "dscpt_configuration = tables[0]\n",
      "dscpt_device = tables[1]\n",
      "dscpt_endpoint = tables[2]\n",
      "dscpt_interface = tables[3]\n",
      "dscpt_string = tables[4]\n",
      "dscpt_string_lang_id = tables[5]\n",
      "usb_device = tables[6]\n",
      "\n",
      "mapper(DscptConfiguration, dscpt_configuration)\n",
      "mapper(DscptDevice, dscpt_device)\n",
      "mapper(DscptEndpoint, dscpt_endpoint)\n",
      "mapper(DscptInterface, dscpt_interface)\n",
      "mapper(DscptString, dscpt_string)\n",
      "mapper(DscptStringLangId, dscpt_string_lang_id)\n",
      "mapper(UsbDevice, usb_device)\n",
      "\n"
     ]
    }
   ],
   "source": [
    "db_path = 'C:\\\\Users\\\\Wei\\\\Dropbox\\\\Coding\\\\notebooks\\\\專案\\\\已完成\\\\Bridges\\\\bitbucket\\\\github\\\\codes\\\\bridges\\\\universal_serial_bus\\\\spec\\\\db\\\\usb_2_0.sqlite'\n",
    "db_url = 'sqlite:///' + db_path\n",
    "\n",
    "ModelBuilder.gen_all(db_url)"
   ]
  },
  {
   "cell_type": "code",
   "execution_count": 262,
   "metadata": {},
   "outputs": [
    {
     "data": {
      "text/plain": [
       "<Mapper at 0x1f194a5fcf8; UsbDevice>"
      ]
     },
     "execution_count": 262,
     "metadata": {},
     "output_type": "execute_result"
    }
   ],
   "source": [
    "from sqlalchemy import create_engine, MetaData, Table\n",
    "from sqlalchemy.orm import mapper, sessionmaker\n",
    "\n",
    "\n",
    "class DscptConfiguration:\n",
    "\n",
    "    def __init__(self, device_id, bLength, bDescriptorType, wTotalLength, bNumInterfaces, bConfigurationValue, iConfiguration, bmAttributes, bMaxPower):\n",
    "\n",
    "        self.device_id = device_id\n",
    "        self.bLength = bLength\n",
    "        self.bDescriptorType = bDescriptorType\n",
    "        self.wTotalLength = wTotalLength\n",
    "        self.bNumInterfaces = bNumInterfaces\n",
    "        self.bConfigurationValue = bConfigurationValue\n",
    "        self.iConfiguration = iConfiguration\n",
    "        self.bmAttributes = bmAttributes\n",
    "        self.bMaxPower = bMaxPower\n",
    "\n",
    "\n",
    "class DscptDevice:\n",
    "\n",
    "    def __init__(self, device_id, bLength, bDescriptorType, bcdUSB, bDeviceClass, bDeviceSubClass, bDeviceProtocol, bMaxPacketSize0, idVendor, idProduct, bcdDevice, iManufacturer, iProduct, iSerialNumber, bNumConfigurations):\n",
    "\n",
    "        self.device_id = device_id\n",
    "        self.bLength = bLength\n",
    "        self.bDescriptorType = bDescriptorType\n",
    "        self.bcdUSB = bcdUSB\n",
    "        self.bDeviceClass = bDeviceClass\n",
    "        self.bDeviceSubClass = bDeviceSubClass\n",
    "        self.bDeviceProtocol = bDeviceProtocol\n",
    "        self.bMaxPacketSize0 = bMaxPacketSize0\n",
    "        self.idVendor = idVendor\n",
    "        self.idProduct = idProduct\n",
    "        self.bcdDevice = bcdDevice\n",
    "        self.iManufacturer = iManufacturer\n",
    "        self.iProduct = iProduct\n",
    "        self.iSerialNumber = iSerialNumber\n",
    "        self.bNumConfigurations = bNumConfigurations\n",
    "\n",
    "\n",
    "class DscptEndpoint:\n",
    "\n",
    "    def __init__(self, device_id, bConfigurationValue, bInterfaceNumber, bAlternateSetting, bLength, bDescriptorType, bEndpointAddress, bmAttributes, wMaxPacketSize, bInterval):\n",
    "\n",
    "        self.device_id = device_id\n",
    "        self.bConfigurationValue = bConfigurationValue\n",
    "        self.bInterfaceNumber = bInterfaceNumber\n",
    "        self.bAlternateSetting = bAlternateSetting\n",
    "        self.bLength = bLength\n",
    "        self.bDescriptorType = bDescriptorType\n",
    "        self.bEndpointAddress = bEndpointAddress\n",
    "        self.bmAttributes = bmAttributes\n",
    "        self.wMaxPacketSize = wMaxPacketSize\n",
    "        self.bInterval = bInterval\n",
    "\n",
    "\n",
    "class DscptInterface:\n",
    "\n",
    "    def __init__(self, device_id, bConfigurationValue, bLength, bDescriptorType, bInterfaceNumber, bAlternateSetting, bNumEndpoints, bInterfaceClass, bInterfaceSubClass, bInterfaceProtocol, iInterface):\n",
    "\n",
    "        self.device_id = device_id\n",
    "        self.bConfigurationValue = bConfigurationValue\n",
    "        self.bLength = bLength\n",
    "        self.bDescriptorType = bDescriptorType\n",
    "        self.bInterfaceNumber = bInterfaceNumber\n",
    "        self.bAlternateSetting = bAlternateSetting\n",
    "        self.bNumEndpoints = bNumEndpoints\n",
    "        self.bInterfaceClass = bInterfaceClass\n",
    "        self.bInterfaceSubClass = bInterfaceSubClass\n",
    "        self.bInterfaceProtocol = bInterfaceProtocol\n",
    "        self.iInterface = iInterface\n",
    "\n",
    "\n",
    "class DscptString:\n",
    "\n",
    "    def __init__(self, device_id, bLength, bDescriptorType, bString):\n",
    "\n",
    "        self.device_id = device_id\n",
    "        self.bLength = bLength\n",
    "        self.bDescriptorType = bDescriptorType\n",
    "        self.bString = bString\n",
    "\n",
    "\n",
    "class DscptStringLangId:\n",
    "\n",
    "    def __init__(self, device_id, bLength, bDescriptorType, wLANGID):\n",
    "\n",
    "        self.device_id = device_id\n",
    "        self.bLength = bLength\n",
    "        self.bDescriptorType = bDescriptorType\n",
    "        self.wLANGID = wLANGID\n",
    "\n",
    "\n",
    "class UsbDevice:\n",
    "\n",
    "    def __init__(self, name, description):\n",
    "\n",
    "        self.name = name\n",
    "        self.description = description\n",
    "\n",
    "\n",
    "engine = create_engine(\"sqlite:///C:\\\\Users\\\\Wei\\\\Dropbox\\\\Coding\\\\notebooks\\\\專案\\\\已完成\\\\Bridges\\\\bitbucket\\\\github\\\\codes\\\\bridges\\\\universal_serial_bus\\\\spec\\\\db\\\\usb_2_0.sqlite\", echo = False)\n",
    "meta = MetaData(bind = engine)\n",
    "meta.reflect()\n",
    "tables = [Table(table, meta) for table in meta.tables]\n",
    "Session = sessionmaker(bind=engine)\n",
    "session = Session()\n",
    "\n",
    "\n",
    "dscpt_configuration = tables[0]\n",
    "dscpt_device = tables[1]\n",
    "dscpt_endpoint = tables[2]\n",
    "dscpt_interface = tables[3]\n",
    "dscpt_string = tables[4]\n",
    "dscpt_string_lang_id = tables[5]\n",
    "usb_device = tables[6]\n",
    "\n",
    "mapper(DscptConfiguration, dscpt_configuration)\n",
    "mapper(DscptDevice, dscpt_device)\n",
    "mapper(DscptEndpoint, dscpt_endpoint)\n",
    "mapper(DscptInterface, dscpt_interface)\n",
    "mapper(DscptString, dscpt_string)\n",
    "mapper(DscptStringLangId, dscpt_string_lang_id)\n",
    "mapper(UsbDevice, usb_device)"
   ]
  },
  {
   "cell_type": "code",
   "execution_count": 263,
   "metadata": {},
   "outputs": [
    {
     "data": {
      "text/plain": [
       "<__main__.UsbDevice at 0x1f194627cf8>"
      ]
     },
     "execution_count": 263,
     "metadata": {},
     "output_type": "execute_result"
    }
   ],
   "source": [
    "# del d1\n",
    "d1 = UsbDevice('d1', 'd1_des')\n",
    "d1"
   ]
  },
  {
   "cell_type": "code",
   "execution_count": 264,
   "metadata": {},
   "outputs": [
    {
     "data": {
      "text/plain": [
       "'d1'"
      ]
     },
     "execution_count": 264,
     "metadata": {},
     "output_type": "execute_result"
    }
   ],
   "source": [
    "d1.name"
   ]
  },
  {
   "cell_type": "code",
   "execution_count": 265,
   "metadata": {},
   "outputs": [
    {
     "data": {
      "text/plain": [
       "'d1_des'"
      ]
     },
     "execution_count": 265,
     "metadata": {},
     "output_type": "execute_result"
    }
   ],
   "source": [
    "d1.description"
   ]
  },
  {
   "cell_type": "code",
   "execution_count": 266,
   "metadata": {},
   "outputs": [],
   "source": [
    "d1.id"
   ]
  },
  {
   "cell_type": "code",
   "execution_count": 267,
   "metadata": {},
   "outputs": [],
   "source": [
    "session.add(d1)"
   ]
  },
  {
   "cell_type": "code",
   "execution_count": 268,
   "metadata": {},
   "outputs": [],
   "source": [
    "d1.id"
   ]
  },
  {
   "cell_type": "code",
   "execution_count": 269,
   "metadata": {},
   "outputs": [],
   "source": [
    "session.commit()"
   ]
  },
  {
   "cell_type": "code",
   "execution_count": 270,
   "metadata": {},
   "outputs": [
    {
     "data": {
      "text/plain": [
       "4"
      ]
     },
     "execution_count": 270,
     "metadata": {},
     "output_type": "execute_result"
    }
   ],
   "source": [
    "d1.id"
   ]
  }
 ],
 "metadata": {
  "kernelspec": {
   "display_name": "Python 3",
   "language": "python",
   "name": "python3"
  },
  "language_info": {
   "codemirror_mode": {
    "name": "ipython",
    "version": 3
   },
   "file_extension": ".py",
   "mimetype": "text/x-python",
   "name": "python",
   "nbconvert_exporter": "python",
   "pygments_lexer": "ipython3",
   "version": "3.6.8"
  }
 },
 "nbformat": 4,
 "nbformat_minor": 2
}
