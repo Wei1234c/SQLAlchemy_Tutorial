{
 "cells": [
  {
   "cell_type": "markdown",
   "metadata": {},
   "source": [
    "# 2. Mapper Configuration\n",
    "http://docs.sqlalchemy.org/en/latest/orm/mapper_config.html"
   ]
  },
  {
   "cell_type": "code",
   "execution_count": null,
   "metadata": {
    "collapsed": false
   },
   "outputs": [],
   "source": [
    "%reset"
   ]
  },
  {
   "cell_type": "code",
   "execution_count": null,
   "metadata": {
    "collapsed": false
   },
   "outputs": [],
   "source": [
    "from sqlalchemy import create_engine\n",
    "echo = True\n",
    "engine = create_engine('sqlite:///:memory:', echo = echo)\n",
    "engine"
   ]
  },
  {
   "cell_type": "markdown",
   "metadata": {},
   "source": [
    "## Types of Mappings\n",
    "\n",
    "Modern SQLAlchemy features two distinct styles of mapper configuration.  \n",
    "1. The “Classical” style is SQLAlchemy’s original mapping API, whereas \n",
    "2. “Declarative” is the richer and more succinct system that builds on top of “Classical”.  \n",
    "\n",
    "Both styles may be used interchangeably, as the end result of each is exactly the same - a user-defined class mapped by the mapper() function onto a ***selectable unit***, typically a ***Table***."
   ]
  },
  {
   "cell_type": "markdown",
   "metadata": {},
   "source": [
    "---\n",
    "### Declarative Mapping\n",
    "\n",
    "The Declarative Mapping is the typical way that mappings are constructed in modern SQLAlchemy. Making use of the Declarative system, the components of the user-defined class as well as the Table metadata to which the class is mapped are defined at once:"
   ]
  },
  {
   "cell_type": "code",
   "execution_count": null,
   "metadata": {
    "collapsed": false
   },
   "outputs": [],
   "source": [
    "from sqlalchemy.ext.declarative import declarative_base\n",
    "from sqlalchemy import Column, Integer, String, ForeignKey\n",
    "\n",
    "Base = declarative_base()\n",
    "\n",
    "class User(Base):\n",
    "    __tablename__ = 'user'\n",
    "\n",
    "    id = Column(Integer, primary_key=True)\n",
    "    name = Column(String)\n",
    "    fullname = Column(String)\n",
    "    password = Column(String)"
   ]
  },
  {
   "cell_type": "markdown",
   "metadata": {},
   "source": [
    "Above, a basic single-table mapping with four columns.  \n",
    "Additional attributes, such as relationships to other mapped classes, are also declared inline within the class definition:"
   ]
  },
  {
   "cell_type": "code",
   "execution_count": null,
   "metadata": {
    "collapsed": false
   },
   "outputs": [],
   "source": [
    "from sqlalchemy.orm import relationship\n",
    "\n",
    "Base = declarative_base()\n",
    "\n",
    "class User(Base):\n",
    "    __tablename__ = 'user'\n",
    "\n",
    "    id = Column(Integer, primary_key=True)\n",
    "    name = Column(String)\n",
    "    fullname = Column(String)\n",
    "    password = Column(String)\n",
    "\n",
    "    addresses = relationship(\"Address\", backref=\"user\", order_by=\"Address.id\")\n",
    "\n",
    "class Address(Base):\n",
    "    __tablename__ = 'address'\n",
    "\n",
    "    id = Column(Integer, primary_key=True)\n",
    "    user_id = Column(ForeignKey('user.id'))\n",
    "    email_address = Column(String)"
   ]
  },
  {
   "cell_type": "markdown",
   "metadata": {},
   "source": [
    "The declarative mapping system is introduced in the Object Relational Tutorial. For additional details on how this system works, see [Declarative](http://docs.sqlalchemy.org/en/latest/orm/extensions/declarative/index.html)."
   ]
  },
  {
   "cell_type": "markdown",
   "metadata": {},
   "source": [
    "---\n",
    "### Classical Mappings\n",
    "\n",
    "A Classical Mapping refers to the configuration of a mapped class using the ***mapper()*** function, without using the Declarative system. This is SQLAlchemy’s original class mapping API, and is still the base mapping system provided by the ORM.\n",
    "\n",
    "In “classical” form, the ***table metadata*** is created separately with the Table construct, then associated with the User class via the mapper() function:"
   ]
  },
  {
   "cell_type": "code",
   "execution_count": null,
   "metadata": {
    "collapsed": false
   },
   "outputs": [],
   "source": [
    "from sqlalchemy import Table, MetaData, Column, Integer, String, ForeignKey\n",
    "from sqlalchemy.orm import mapper\n",
    "\n",
    "metadata = MetaData()\n",
    "\n",
    "user = Table('user', metadata,\n",
    "             Column('id', Integer, primary_key=True),\n",
    "             Column('name', String(50)),\n",
    "             Column('fullname', String(50)),\n",
    "             Column('password', String(12))\n",
    "            )\n",
    "\n",
    "class User(object):\n",
    "    def __init__(self, name, fullname, password):\n",
    "        self.name = name\n",
    "        self.fullname = fullname\n",
    "        self.password = password\n",
    "\n",
    "mapper(User, user)"
   ]
  },
  {
   "cell_type": "markdown",
   "metadata": {},
   "source": [
    "Information about mapped attributes, such as relationships to other classes, are provided via the ***properties*** dictionary. The example below illustrates a second Table object, mapped to a class called Address, then linked to User via relationship():"
   ]
  },
  {
   "cell_type": "code",
   "execution_count": null,
   "metadata": {
    "collapsed": false
   },
   "outputs": [],
   "source": [
    "from sqlalchemy.orm import clear_mappers\n",
    "\n",
    "# metadata = MetaData()\n",
    "address = Table('address', metadata,\n",
    "                Column('id', Integer, primary_key=True),\n",
    "                Column('user_id', Integer, ForeignKey('user.id')),\n",
    "                Column('email_address', String(50))\n",
    "               )\n",
    "\n",
    "clear_mappers() # 清除mapping，重新 map一次\n",
    "mapper(User, user, properties={\n",
    "    'addresses' : relationship(Address, backref='user', order_by=address.c.id)\n",
    "})\n",
    "\n",
    "mapper(Address, address)"
   ]
  },
  {
   "cell_type": "markdown",
   "metadata": {},
   "source": [
    "When using classical mappings, classes must be provided directly without the benefit of the ***“string lookup”*** system provided by Declarative. SQL expressions are typically specified in terms of the ***Table*** objects, i.e. ***address.c.id*** above for the Address relationship, and not Address.id, <font color='blue'>as Address may not yet be linked to table metadata, nor can we specify a string here</font>.\n",
    "\n",
    "Some examples in the documentation still use the classical approach, but note that the classical as well as Declarative approaches are **fully interchangeable**. <font color='blue'>Both systems ultimately create the same configuration, consisting of a Table, user-defined class, linked together with a mapper()</font>. When we talk about “the behavior of mapper()”, this includes when using the Declarative system as well - it’s still used, just behind the scenes."
   ]
  },
  {
   "cell_type": "markdown",
   "metadata": {},
   "source": [
    "---\n",
    "### Runtime Introspection of Mappings, Objects\n",
    "\n",
    "The ***Mapper*** object is available from any mapped class, regardless of method, using the [Runtime Inspection API](http://docs.sqlalchemy.org/en/latest/core/inspection.html) system. Using the ***[inspect()](http://docs.sqlalchemy.org/en/latest/core/inspection.html#sqlalchemy.inspection.inspect)*** function, one can acquire the Mapper from a mapped class:"
   ]
  },
  {
   "cell_type": "code",
   "execution_count": null,
   "metadata": {
    "collapsed": false
   },
   "outputs": [],
   "source": [
    "from sqlalchemy import inspect\n",
    "insp = inspect(User)\n",
    "insp"
   ]
  },
  {
   "cell_type": "markdown",
   "metadata": {},
   "source": [
    "Detailed information is available including ***Mapper.columns***:"
   ]
  },
  {
   "cell_type": "code",
   "execution_count": null,
   "metadata": {
    "collapsed": false
   },
   "outputs": [],
   "source": [
    "insp.columns"
   ]
  },
  {
   "cell_type": "markdown",
   "metadata": {},
   "source": [
    "This is a namespace that can be viewed in a list format or via individual names:"
   ]
  },
  {
   "cell_type": "code",
   "execution_count": null,
   "metadata": {
    "collapsed": false
   },
   "outputs": [],
   "source": [
    "list(insp.columns)"
   ]
  },
  {
   "cell_type": "code",
   "execution_count": null,
   "metadata": {
    "collapsed": false
   },
   "outputs": [],
   "source": [
    "insp.columns.name"
   ]
  },
  {
   "cell_type": "code",
   "execution_count": null,
   "metadata": {
    "collapsed": false
   },
   "outputs": [],
   "source": [
    "insp.columns['name']"
   ]
  },
  {
   "cell_type": "markdown",
   "metadata": {},
   "source": [
    "Other namespaces include ***Mapper.all_orm_descriptors***, which includes all mapped attributes as well as ***hybrids, association proxies***:"
   ]
  },
  {
   "cell_type": "code",
   "execution_count": null,
   "metadata": {
    "collapsed": false
   },
   "outputs": [],
   "source": [
    "insp.all_orm_descriptors"
   ]
  },
  {
   "cell_type": "code",
   "execution_count": null,
   "metadata": {
    "collapsed": false
   },
   "outputs": [],
   "source": [
    "insp.all_orm_descriptors.keys()"
   ]
  },
  {
   "cell_type": "markdown",
   "metadata": {},
   "source": [
    "As well as Mapper.column_attrs:"
   ]
  },
  {
   "cell_type": "code",
   "execution_count": null,
   "metadata": {
    "collapsed": false
   },
   "outputs": [],
   "source": [
    "list(insp.column_attrs)"
   ]
  },
  {
   "cell_type": "code",
   "execution_count": null,
   "metadata": {
    "collapsed": false
   },
   "outputs": [],
   "source": [
    "insp.column_attrs.name"
   ]
  },
  {
   "cell_type": "code",
   "execution_count": null,
   "metadata": {
    "collapsed": false
   },
   "outputs": [],
   "source": [
    "insp.column_attrs.name.expression"
   ]
  },
  {
   "cell_type": "markdown",
   "metadata": {},
   "source": [
    "## Mapping Columns and Expressions\n",
    "\n",
    "The following sections discuss how ***table columns*** and ***SQL expressions*** are mapped to individual ***object attributes***."
   ]
  },
  {
   "cell_type": "markdown",
   "metadata": {},
   "source": [
    "### Mapping Table Columns\n",
    "\n",
    "The default behavior of mapper() is to assemble all the ***columns*** in the mapped Table into mapped object ***attributes***, each of which are named according to the name of the column itself (specifically, the key attribute of Column). This behavior can be modified in several ways."
   ]
  },
  {
   "cell_type": "markdown",
   "metadata": {},
   "source": [
    "---\n",
    "### Naming Columns Distinctly from Attribute Names\n",
    "\n",
    "A mapping by default shares the same name for a Column as that of the mapped attribute - specifically it matches the ***Column.key*** attribute on Column, which by default is the same as the ***Column.name***.\n",
    "\n",
    "The name assigned to the Python attribute which maps to Column can be ***different*** from either Column.name or Column.key just by assigning it that way, as we illustrate here in a Declarative mapping:"
   ]
  },
  {
   "cell_type": "code",
   "execution_count": null,
   "metadata": {
    "collapsed": false
   },
   "outputs": [],
   "source": [
    "Base = declarative_base()\n",
    "\n",
    "class User(Base):\n",
    "    __tablename__ = 'user'\n",
    "    id = Column('user_id', Integer, primary_key=True)\n",
    "    name = Column('user_name', String(50))"
   ]
  },
  {
   "cell_type": "markdown",
   "metadata": {},
   "source": [
    "Where above User.id resolves to a column named user_id and User.name resolves to a column named user_name.\n",
    "\n",
    "When mapping to an ***existing table***, the ***Column*** object can be referenced directly:"
   ]
  },
  {
   "cell_type": "code",
   "execution_count": null,
   "metadata": {
    "collapsed": false
   },
   "outputs": [],
   "source": [
    "Base = declarative_base() \n",
    "\n",
    "user_table = Table(\"user\", Base.metadata)\n",
    "\n",
    "class User(Base):\n",
    "    __table__ = user_table\n",
    "    id = user_table.c.user_id\n",
    "    name = user_table.c.user_name"
   ]
  },
  {
   "cell_type": "markdown",
   "metadata": {},
   "source": [
    "Or in a classical mapping, placed in the ***properties*** dictionary with the desired key:"
   ]
  },
  {
   "cell_type": "code",
   "execution_count": null,
   "metadata": {
    "collapsed": false
   },
   "outputs": [],
   "source": [
    "mapper(User, user_table, \n",
    "       properties={\n",
    "                    'id': user_table.c.user_id,\n",
    "                    'name': user_table.c.user_name,\n",
    "                  }\n",
    "      )"
   ]
  },
  {
   "cell_type": "markdown",
   "metadata": {},
   "source": [
    "---\n",
    "### Automating Column Naming Schemes from Reflected Tables\n",
    "\n",
    "In the previous section Naming Columns Distinctly from Attribute Names, we showed how a Column explicitly mapped to a class can have a different attribute name than the column. But what if we aren’t listing out Column objects explicitly, and instead are ***automating the production of Table objects using reflection*** (e.g. as described in [Reflecting Database Objects](http://docs.sqlalchemy.org/en/latest/core/reflection.html))? In this case we can make use of the ***DDLEvents.column_reflect()*** event to intercept the production of Column objects and provide them with the ***Column.key*** of our choice:"
   ]
  },
  {
   "cell_type": "code",
   "execution_count": null,
   "metadata": {
    "collapsed": false
   },
   "outputs": [],
   "source": [
    "@event.listens_for(Table, \"column_reflect\")\n",
    "def column_reflect(inspector, table, column_info):\n",
    "    # set column.key = \"attr_<lower_case_name>\"\n",
    "    column_info['key'] = \"attr_%s\" % column_info['name'].lower()"
   ]
  },
  {
   "cell_type": "markdown",
   "metadata": {},
   "source": [
    "With the above event, the ***reflection of Column*** objects will be intercepted with our event that adds a new ”.key” element, such as in a mapping as below:"
   ]
  },
  {
   "cell_type": "code",
   "execution_count": null,
   "metadata": {
    "collapsed": false
   },
   "outputs": [],
   "source": [
    "class MyClass(Base):\n",
    "    __table__ = Table(\"user\", Base.metadata,\n",
    "                autoload=True, autoload_with=engine)"
   ]
  },
  {
   "cell_type": "markdown",
   "metadata": {},
   "source": [
    "If we want to qualify our event to only react for the specific MetaData object above, we can check for it in our event:"
   ]
  },
  {
   "cell_type": "code",
   "execution_count": null,
   "metadata": {
    "collapsed": true
   },
   "outputs": [],
   "source": [
    "@event.listens_for(Table, \"column_reflect\")\n",
    "def column_reflect(inspector, table, column_info):\n",
    "    if table.metadata is Base.metadata:\n",
    "        # set column.key = \"attr_<lower_case_name>\"\n",
    "        column_info['key'] = \"attr_%s\" % column_info['name'].lower()"
   ]
  },
  {
   "cell_type": "markdown",
   "metadata": {},
   "source": [
    "---\n",
    "### Naming All Columns with a Prefix\n",
    "\n",
    "A quick approach to prefix column names, typically when mapping to an ***existing Table*** object, is to use column_prefix:"
   ]
  },
  {
   "cell_type": "code",
   "execution_count": null,
   "metadata": {
    "collapsed": true
   },
   "outputs": [],
   "source": [
    "class User(Base):\n",
    "    __table__ = user_table\n",
    "    __mapper_args__ = {'column_prefix':'_'}"
   ]
  },
  {
   "cell_type": "markdown",
   "metadata": {},
   "source": [
    "The above will place attribute names such as _user_id, _user_name, _password etc. on the mapped User class.\n",
    "\n",
    "This approach is ***uncommon*** in modern usage. For dealing with reflected tables, a more flexible approach is to use that described in [Automating Column Naming Schemes from Reflected Tables](http://docs.sqlalchemy.org/en/latest/orm/mapping_columns.html#mapper-automated-reflection-schemes)."
   ]
  },
  {
   "cell_type": "markdown",
   "metadata": {},
   "source": [
    "---\n",
    "### Using column_property for column level options\n",
    "\n",
    "Options can be specified when mapping a Column using the ***column_property()*** function. This function explicitly creates the ***ColumnProperty*** used by the mapper() to keep track of the Column; normally, the mapper() creates this automatically. Using column_property(), we can pass additional arguments about how we’d like the Column to be mapped. Below, we pass an option ***active_history***, which specifies that a change to this column’s value should result in the former value being loaded first:"
   ]
  },
  {
   "cell_type": "code",
   "execution_count": null,
   "metadata": {
    "collapsed": true
   },
   "outputs": [],
   "source": [
    "from sqlalchemy.orm import column_property\n",
    "\n",
    "class User(Base):\n",
    "    __tablename__ = 'user'\n",
    "\n",
    "    id = Column(Integer, primary_key=True)\n",
    "    name = column_property(Column(String(50)), active_history=True)"
   ]
  },
  {
   "cell_type": "markdown",
   "metadata": {},
   "source": [
    "***column_property()*** is also used to ***map a single attribute to multiple columns***. This use case arises when mapping to a ***join()*** which has attributes which are equated to each other:"
   ]
  },
  {
   "cell_type": "code",
   "execution_count": null,
   "metadata": {
    "collapsed": true
   },
   "outputs": [],
   "source": [
    "class User(Base):\n",
    "    __table__ = user.join(address)\n",
    "\n",
    "    # assign \"user.id\", \"address.user_id\" to the\n",
    "    # \"id\" attribute\n",
    "    id = column_property(user_table.c.id, address_table.c.user_id)"
   ]
  },
  {
   "cell_type": "markdown",
   "metadata": {},
   "source": [
    "For more examples featuring this usage, see [Mapping a Class against Multiple Tables](http://docs.sqlalchemy.org/en/latest/orm/nonstandard_mappings.html#maptojoin).\n",
    "\n",
    "Another place where column_property() is needed is to specify ***SQL expressions as mapped attributes***, such as below where we create an attribute fullname that is the string ***concatenation*** of the firstname and lastname columns:"
   ]
  },
  {
   "cell_type": "code",
   "execution_count": null,
   "metadata": {
    "collapsed": true
   },
   "outputs": [],
   "source": [
    "class User(Base):\n",
    "    __tablename__ = 'user'\n",
    "    id = Column(Integer, primary_key=True)\n",
    "    firstname = Column(String(50))\n",
    "    lastname = Column(String(50))\n",
    "    fullname = column_property(firstname + \" \" + lastname)"
   ]
  },
  {
   "cell_type": "markdown",
   "metadata": {},
   "source": [
    "sqlalchemy.orm.column_property(*columns, **kwargs)\n",
    "\n",
    "> Provide a column-level property for use with a Mapper.\n",
    "\n",
    "> Column-based properties can normally be applied to the mapper’s properties dictionary using the Column element directly. Use this function when the given column is not directly present within the mapper’s selectable; examples include SQL expressions, functions, and scalar SELECT queries.\n",
    "\n",
    "> Columns that aren’t present in the mapper’s selectable won’t be persisted by the mapper and are effectively “read-only” attributes."
   ]
  },
  {
   "cell_type": "markdown",
   "metadata": {},
   "source": [
    "---\n",
    "### Mapping a Subset of Table Columns\n",
    "\n",
    "Sometimes, a Table object was made available using the reflection process described at [Reflecting Database Objects](http://docs.sqlalchemy.org/en/latest/core/reflection.html#metadata-reflection) to load the table’s structure from the database. For such a table that has lots of columns that don’t need to be referenced in the application, the ***include_properties*** or ***exclude_propertie***s arguments can specify that only a subset of columns should be mapped. For example:"
   ]
  },
  {
   "cell_type": "code",
   "execution_count": null,
   "metadata": {
    "collapsed": true
   },
   "outputs": [],
   "source": [
    "class User(Base):\n",
    "    __table__ = user_table\n",
    "    __mapper_args__ = {\n",
    "        'include_properties' :['user_id', 'user_name']\n",
    "    }"
   ]
  },
  {
   "cell_type": "markdown",
   "metadata": {},
   "source": [
    "...will map the User class to the user_table table, only including the user_id and user_name columns - the rest are not referenced. Similarly:"
   ]
  },
  {
   "cell_type": "code",
   "execution_count": null,
   "metadata": {
    "collapsed": true
   },
   "outputs": [],
   "source": [
    "class Address(Base):\n",
    "    __table__ = address_table\n",
    "    __mapper_args__ = {\n",
    "        'exclude_properties' : ['street', 'city', 'state', 'zip']\n",
    "    }"
   ]
  },
  {
   "cell_type": "markdown",
   "metadata": {},
   "source": [
    "...will map the Address class to the address_table table, including all columns present ***except*** street, city, state, and zip."
   ]
  },
  {
   "cell_type": "markdown",
   "metadata": {},
   "source": [
    "When this mapping is used, ***the columns that are not included will not be referenced in any SELECT statements emitted by Query***, nor will there be any mapped attribute on the mapped class which represents the column; assigning an attribute of that name will have no effect beyond that of a normal Python attribute assignment.\n",
    "\n",
    "In some cases, multiple columns may have the ***same name***, such as when mapping to a ***join*** of two or more tables that share some column name. include_properties and exclude_properties can also accommodate Column objects to more accurately describe which columns should be included or excluded:"
   ]
  },
  {
   "cell_type": "code",
   "execution_count": null,
   "metadata": {
    "collapsed": true
   },
   "outputs": [],
   "source": [
    "class UserAddress(Base):\n",
    "    __table__ = user_table.join(addresses_table)\n",
    "    __mapper_args__ = {\n",
    "        'exclude_properties' :[address_table.c.id],\n",
    "        'primary_key' : [user_table.c.id]\n",
    "    }"
   ]
  },
  {
   "cell_type": "markdown",
   "metadata": {},
   "source": [
    "**Note**: insert and update defaults configured on individual Column objects, i.e. those described at Column Insert/Update Defaults including those configured by the default, update, server_default and server_onupdate arguments, will continue to function normally even if those Column objects are not mapped. This is because in the case of default and update, ***the Column object is still present on the underlying Table***, thus allowing the default functions to take place when the ORM emits an INSERT or UPDATE, and in the case of server_default and server_onupdate, the relational database itself maintains these functions."
   ]
  },
  {
   "cell_type": "markdown",
   "metadata": {},
   "source": [
    "### SQL Expressions as Mapped Attributes\n",
    "Attributes on a mapped class can be linked to SQL expressions, which can be used in queries."
   ]
  },
  {
   "cell_type": "markdown",
   "metadata": {},
   "source": [
    "---\n",
    "### Using a Hybrid\n",
    "\n",
    "The easiest and most flexible way to link relatively simple SQL expressions to a class is to use a so-called ***“hybrid attribute”***, described in the section [Hybrid Attributes](http://docs.sqlalchemy.org/en/latest/orm/extensions/hybrid.html). The hybrid provides for an expression that works at both the Python level as well as at the SQL expression level. For example, below we map a class User, containing attributes firstname and lastname, and include a ***hybrid*** that will provide for us the fullname, which is the string concatenation of the two:"
   ]
  },
  {
   "cell_type": "code",
   "execution_count": null,
   "metadata": {
    "collapsed": false
   },
   "outputs": [],
   "source": [
    "from sqlalchemy.ext.hybrid import hybrid_property\n",
    "\n",
    "class User(Base):\n",
    "    __tablename__ = 'user'\n",
    "    id = Column(Integer, primary_key=True)\n",
    "    firstname = Column(String(50))\n",
    "    lastname = Column(String(50))\n",
    "\n",
    "    @hybrid_property\n",
    "    def fullname(self):\n",
    "        return self.firstname + \" \" + self.lastname"
   ]
  },
  {
   "cell_type": "markdown",
   "metadata": {},
   "source": [
    "Above, the fullname attribute is interpreted ***at both the instance and class level***, so that it is available from an instance:"
   ]
  },
  {
   "cell_type": "code",
   "execution_count": null,
   "metadata": {
    "collapsed": true
   },
   "outputs": [],
   "source": [
    "some_user = session.query(User).first()\n",
    "print some_user.fullname"
   ]
  },
  {
   "cell_type": "markdown",
   "metadata": {},
   "source": [
    "as well as usable within queries:"
   ]
  },
  {
   "cell_type": "code",
   "execution_count": null,
   "metadata": {
    "collapsed": true
   },
   "outputs": [],
   "source": [
    "some_user = session.query(User).filter(User.fullname == \"John Smith\").first()"
   ]
  },
  {
   "cell_type": "markdown",
   "metadata": {},
   "source": [
    "The string concatenation example is a simple one, where the Python expression can be dual purposed at the instance and class level. Often, the SQL expression must be distinguished from the Python expression, which can be achieved using ***hybrid_property.expression()***. Below we illustrate the case where a conditional needs to be present inside the hybrid, using the if statement in Python and the ***sql.expression.case()*** construct for SQL expressions:"
   ]
  },
  {
   "cell_type": "code",
   "execution_count": null,
   "metadata": {
    "collapsed": true
   },
   "outputs": [],
   "source": [
    "from sqlalchemy.ext.hybrid import hybrid_property\n",
    "from sqlalchemy.sql import case\n",
    "\n",
    "class User(Base):\n",
    "    __tablename__ = 'user'\n",
    "    id = Column(Integer, primary_key=True)\n",
    "    firstname = Column(String(50))\n",
    "    lastname = Column(String(50))\n",
    "\n",
    "    @hybrid_property\n",
    "    def fullname(self):\n",
    "        if self.firstname is not None:\n",
    "            return self.firstname + \" \" + self.lastname\n",
    "        else:\n",
    "            return self.lastname\n",
    "\n",
    "    @fullname.expression\n",
    "    def fullname(cls):\n",
    "        return case([\n",
    "            (cls.firstname != None, cls.firstname + \" \" + cls.lastname),\n",
    "        ], else_ = cls.lastname)"
   ]
  },
  {
   "cell_type": "markdown",
   "metadata": {},
   "source": [
    "---\n",
    "### Using column_property\n",
    "\n",
    "The ***orm.column_property()*** function can be used to map a SQL expression in a manner similar to a regularly mapped Column. With this technique, the attribute is loaded along with all other column-mapped attributes at load time. This is in some cases an advantage over the usage of hybrids, as ***the value can be loaded up front at the same time as the parent row of the object***, particularly if the expression is one which links to other tables (typically as a ***correlated subquery***) to access data that wouldn’t normally be available on an already loaded object.\n",
    "\n",
    "Disadvantages to using orm.column_property() for SQL expressions include that the expression must be compatible with the SELECT statement emitted for the class as a whole, and there are also some configurational quirks which can occur when using orm.column_property() from declarative mixins.\n",
    "\n",
    "Our “fullname” example can be expressed using orm.column_property() as follows:"
   ]
  },
  {
   "cell_type": "code",
   "execution_count": null,
   "metadata": {
    "collapsed": true
   },
   "outputs": [],
   "source": []
  },
  {
   "cell_type": "code",
   "execution_count": null,
   "metadata": {
    "collapsed": true
   },
   "outputs": [],
   "source": []
  },
  {
   "cell_type": "code",
   "execution_count": null,
   "metadata": {
    "collapsed": true
   },
   "outputs": [],
   "source": []
  },
  {
   "cell_type": "code",
   "execution_count": null,
   "metadata": {
    "collapsed": true
   },
   "outputs": [],
   "source": []
  },
  {
   "cell_type": "code",
   "execution_count": null,
   "metadata": {
    "collapsed": true
   },
   "outputs": [],
   "source": []
  },
  {
   "cell_type": "code",
   "execution_count": null,
   "metadata": {
    "collapsed": true
   },
   "outputs": [],
   "source": []
  },
  {
   "cell_type": "code",
   "execution_count": null,
   "metadata": {
    "collapsed": true
   },
   "outputs": [],
   "source": []
  },
  {
   "cell_type": "code",
   "execution_count": null,
   "metadata": {
    "collapsed": true
   },
   "outputs": [],
   "source": []
  },
  {
   "cell_type": "code",
   "execution_count": null,
   "metadata": {
    "collapsed": true
   },
   "outputs": [],
   "source": []
  },
  {
   "cell_type": "code",
   "execution_count": null,
   "metadata": {
    "collapsed": true
   },
   "outputs": [],
   "source": []
  },
  {
   "cell_type": "code",
   "execution_count": null,
   "metadata": {
    "collapsed": true
   },
   "outputs": [],
   "source": []
  },
  {
   "cell_type": "code",
   "execution_count": null,
   "metadata": {
    "collapsed": true
   },
   "outputs": [],
   "source": []
  },
  {
   "cell_type": "code",
   "execution_count": null,
   "metadata": {
    "collapsed": true
   },
   "outputs": [],
   "source": []
  },
  {
   "cell_type": "code",
   "execution_count": null,
   "metadata": {
    "collapsed": true
   },
   "outputs": [],
   "source": []
  }
 ],
 "metadata": {
  "kernelspec": {
   "display_name": "Python 3",
   "language": "python",
   "name": "python3"
  },
  "language_info": {
   "codemirror_mode": {
    "name": "ipython",
    "version": 3
   },
   "file_extension": ".py",
   "mimetype": "text/x-python",
   "name": "python",
   "nbconvert_exporter": "python",
   "pygments_lexer": "ipython3",
   "version": "3.5.1"
  }
 },
 "nbformat": 4,
 "nbformat_minor": 0
}
