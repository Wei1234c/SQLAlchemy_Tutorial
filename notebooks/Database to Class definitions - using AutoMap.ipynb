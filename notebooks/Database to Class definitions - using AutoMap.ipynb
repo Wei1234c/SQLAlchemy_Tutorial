{
 "cells": [
  {
   "cell_type": "markdown",
   "metadata": {},
   "source": [
    "# Database to Class definitions - using AutoMap\n",
    "https://docs.sqlalchemy.org/en/13/orm/extensions/automap.html  "
   ]
  },
  {
   "cell_type": "code",
   "execution_count": 97,
   "metadata": {},
   "outputs": [
    {
     "name": "stdout",
     "output_type": "stream",
     "text": [
      "Populating the interactive namespace from numpy and matplotlib\n"
     ]
    }
   ],
   "source": [
    "%pylab inline\n",
    "\n",
    "from pprint import pprint"
   ]
  },
  {
   "cell_type": "code",
   "execution_count": null,
   "metadata": {},
   "outputs": [],
   "source": [
    "db_path = 'C:\\\\Users\\\\Wei\\\\Dropbox\\\\Coding\\\\notebooks\\\\專案\\\\已完成\\\\Bridges\\\\bitbucket\\\\github\\\\codes\\\\bridges\\\\universal_serial_bus\\\\spec\\\\db\\\\usb_2_0.sqlite'\n",
    "db_url = 'sqlite:///' + db_path\n",
    "db_url"
   ]
  },
  {
   "cell_type": "code",
   "execution_count": null,
   "metadata": {},
   "outputs": [],
   "source": [
    "from sqlalchemy.ext.automap import automap_base\n",
    "from sqlalchemy.orm import Session\n",
    "from sqlalchemy import create_engine\n",
    "\n",
    "\n",
    "engine = create_engine(db_url)\n",
    "Base = automap_base() \n",
    "Base.prepare(engine, reflect=True)\n",
    "session = Session(engine)"
   ]
  },
  {
   "cell_type": "code",
   "execution_count": 41,
   "metadata": {},
   "outputs": [
    {
     "data": {
      "text/plain": [
       "<sqlalchemy.ext.automap.usb_device at 0x2d9a68408d0>"
      ]
     },
     "execution_count": 41,
     "metadata": {},
     "output_type": "execute_result"
    }
   ],
   "source": [
    "UsbDevice = Base.classes.usb_device\n",
    "\n",
    "# d1 = UsbDevice('d1', 'd1_des')  # 不能用 positional argument\n",
    "d1 = UsbDevice(name = 'd1', description = 'd1_des')  # 必須用 keyward argument \n",
    "d1"
   ]
  },
  {
   "cell_type": "code",
   "execution_count": 42,
   "metadata": {},
   "outputs": [
    {
     "data": {
      "text/plain": [
       "10"
      ]
     },
     "execution_count": 42,
     "metadata": {},
     "output_type": "execute_result"
    }
   ],
   "source": [
    "session.add(d1)\n",
    "session.commit()\n",
    "d1.id"
   ]
  }
 ],
 "metadata": {
  "kernelspec": {
   "display_name": "Python 3",
   "language": "python",
   "name": "python3"
  },
  "language_info": {
   "codemirror_mode": {
    "name": "ipython",
    "version": 3
   },
   "file_extension": ".py",
   "mimetype": "text/x-python",
   "name": "python",
   "nbconvert_exporter": "python",
   "pygments_lexer": "ipython3",
   "version": "3.6.8"
  }
 },
 "nbformat": 4,
 "nbformat_minor": 2
}
