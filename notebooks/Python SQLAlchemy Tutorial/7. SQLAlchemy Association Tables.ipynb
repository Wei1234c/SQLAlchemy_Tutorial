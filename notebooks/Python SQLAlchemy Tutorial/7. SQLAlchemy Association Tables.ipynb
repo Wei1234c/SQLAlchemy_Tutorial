{
 "cells": [
  {
   "cell_type": "markdown",
   "metadata": {},
   "source": [
    "# 7. SQLAlchemy Association Tables\n",
    "http://pythoncentral.io/sqlalchemy-association-tables/"
   ]
  },
  {
   "cell_type": "code",
   "execution_count": 59,
   "metadata": {
    "collapsed": false
   },
   "outputs": [
    {
     "name": "stdout",
     "output_type": "stream",
     "text": [
      "Once deleted, variables cannot be recovered. Proceed (y/[n])? y\n"
     ]
    }
   ],
   "source": [
    "%reset"
   ]
  },
  {
   "cell_type": "markdown",
   "metadata": {
    "collapsed": true
   },
   "source": [
    "#### Association Tables\n",
    "\n",
    "In our previous articles, we used an association table to model many-to-many relationships between tables, such as the relationship between Department and Employee. In this article, we are going to dive deeper into the association table concept and see how we can use it to further solve more complicated problems.\n",
    "\n",
    "#### DepartmentEmployeeLink and Extra Data\n",
    "\n",
    "In our previous article, we created the following SQLAlchemy models:"
   ]
  },
  {
   "cell_type": "code",
   "execution_count": 60,
   "metadata": {
    "collapsed": true
   },
   "outputs": [],
   "source": [
    "fp = 'association_tables.sqlite'"
   ]
  },
  {
   "cell_type": "code",
   "execution_count": 61,
   "metadata": {
    "collapsed": true
   },
   "outputs": [],
   "source": [
    "import os\n",
    "\n",
    "if os.path.exists(fp):\n",
    "    os.remove(fp)\n",
    "    \n",
    "from sqlalchemy import Column, DateTime, String, Integer, ForeignKey, func\n",
    "from sqlalchemy.orm import relationship, backref\n",
    "from sqlalchemy.ext.declarative import declarative_base\n",
    "\n",
    "Base = declarative_base()\n",
    "\n",
    "class Department(Base):\n",
    "    __tablename__ = 'department'\n",
    "    id = Column(Integer, primary_key=True)\n",
    "    name = Column(String)\n",
    "    employees = relationship(\n",
    "        'Employee',\n",
    "        secondary='department_employee_link'\n",
    "    )\n",
    " \n",
    " \n",
    "class Employee(Base):\n",
    "    __tablename__ = 'employee'\n",
    "    id = Column(Integer, primary_key=True)\n",
    "    name = Column(String)\n",
    "    hired_on = Column(DateTime, default=func.now())\n",
    "    departments = relationship(\n",
    "        Department,\n",
    "        secondary='department_employee_link'\n",
    "    )\n",
    " \n",
    " \n",
    "class DepartmentEmployeeLink(Base):\n",
    "    __tablename__ = 'department_employee_link'\n",
    "    department_id = Column(Integer, ForeignKey('department.id'), primary_key=True)\n",
    "    employee_id = Column(Integer, ForeignKey('employee.id'), primary_key=True)"
   ]
  },
  {
   "cell_type": "markdown",
   "metadata": {},
   "source": [
    "Notice that the DepartmentEmployeeLink class contains two foreign key columns which are enough to model the many-to-many relationship between Department and Employee.  \n",
    "Now let's add one more column **extra_data** and two more relationships **department** and **employee**."
   ]
  },
  {
   "cell_type": "code",
   "execution_count": 62,
   "metadata": {
    "collapsed": true
   },
   "outputs": [],
   "source": [
    "import os\n",
    " \n",
    "from sqlalchemy import Column, DateTime, String, Integer, ForeignKey, func\n",
    "from sqlalchemy.orm import relationship, backref\n",
    "from sqlalchemy.ext.declarative import declarative_base\n",
    " \n",
    "Base = declarative_base()\n",
    " \n",
    "class Department(Base):\n",
    "    __tablename__ = 'department'\n",
    "    id = Column(Integer, primary_key=True)\n",
    "    name = Column(String)\n",
    "    employees = relationship(\n",
    "        'Employee',\n",
    "        secondary='department_employee_link'\n",
    "    )\n",
    " \n",
    " \n",
    "class Employee(Base):\n",
    "    __tablename__ = 'employee'\n",
    "    id = Column(Integer, primary_key=True)\n",
    "    name = Column(String)\n",
    "    hired_on = Column(DateTime, default=func.now())\n",
    "    departments = relationship(\n",
    "        Department,\n",
    "        secondary='department_employee_link'\n",
    "    )\n",
    " \n",
    " \n",
    "class DepartmentEmployeeLink(Base):\n",
    "    __tablename__ = 'department_employee_link'\n",
    "    department_id = Column(Integer, ForeignKey('department.id'), primary_key=True)\n",
    "    employee_id = Column(Integer, ForeignKey('employee.id'), primary_key=True)\n",
    "    extra_data = Column(String(256))\n",
    "    department = relationship(Department, backref=backref(\"employee_assoc\"))\n",
    "    employee = relationship(Employee, backref=backref(\"department_assoc\"))"
   ]
  },
  {
   "cell_type": "markdown",
   "metadata": {},
   "source": [
    "With one more extra column and two more relationships on the DepartmentEmployeeLink association model, we can store more information and be more liberal with how we want to use it.  \n",
    "For example, suppose we have an employee John who works part-time in the IT department, we can insert the string 'part-time' into the column extra_data and create an DepartmentEmployeeLink object to represent this relationship."
   ]
  },
  {
   "cell_type": "code",
   "execution_count": 63,
   "metadata": {
    "collapsed": true
   },
   "outputs": [],
   "source": [
    "if os.path.exists(fp):\n",
    "    os.remove(fp)\n",
    "    \n",
    "from sqlalchemy import create_engine\n",
    "engine = create_engine('sqlite:///{0}'.format(fp))\n",
    "\n",
    "from sqlalchemy.orm import sessionmaker\n",
    "session = sessionmaker()\n",
    "session.configure(bind=engine)\n",
    "Base.metadata.create_all(engine)\n",
    "\n",
    "IT = Department(name=\"IT\")\n",
    "John = Employee(name=\"John\")\n",
    "John_working_part_time_at_IT = DepartmentEmployeeLink(department=IT, employee=John, extra_data='part-time')\n",
    "s = session()\n",
    "s.add(John_working_part_time_at_IT)\n",
    "s.commit()"
   ]
  },
  {
   "cell_type": "markdown",
   "metadata": {},
   "source": [
    "Then, we can find John by querying the IT department or the DepartmentEmployeeLink model."
   ]
  },
  {
   "cell_type": "code",
   "execution_count": 64,
   "metadata": {
    "collapsed": false
   },
   "outputs": [
    {
     "data": {
      "text/plain": [
       "'John'"
      ]
     },
     "execution_count": 64,
     "metadata": {},
     "output_type": "execute_result"
    }
   ],
   "source": [
    "IT.employees[0].name"
   ]
  },
  {
   "cell_type": "code",
   "execution_count": 65,
   "metadata": {
    "collapsed": false
   },
   "outputs": [
    {
     "data": {
      "text/plain": [
       "'John'"
      ]
     },
     "execution_count": 65,
     "metadata": {},
     "output_type": "execute_result"
    }
   ],
   "source": [
    "de_link = s.query(DepartmentEmployeeLink).join(Department).filter(Department.name == 'IT').one()\n",
    "de_link.employee.name"
   ]
  },
  {
   "cell_type": "code",
   "execution_count": 66,
   "metadata": {
    "collapsed": false
   },
   "outputs": [
    {
     "data": {
      "text/plain": [
       "'John'"
      ]
     },
     "execution_count": 66,
     "metadata": {},
     "output_type": "execute_result"
    }
   ],
   "source": [
    "de_link = s.query(DepartmentEmployeeLink).filter(DepartmentEmployeeLink.extra_data == 'part-time').one()\n",
    "de_link.employee.name"
   ]
  },
  {
   "cell_type": "markdown",
   "metadata": {},
   "source": [
    "Finally, adding an IT employee using the relationship Department.employees still works, as shown in the previous article:"
   ]
  },
  {
   "cell_type": "code",
   "execution_count": 67,
   "metadata": {
    "collapsed": true
   },
   "outputs": [],
   "source": [
    "Bill = Employee(name=\"Bill\")\n",
    "IT.employees.append(Bill)\n",
    "s.add(Bill)\n",
    "s.commit()"
   ]
  },
  {
   "cell_type": "markdown",
   "metadata": {},
   "source": [
    "#### Linking Relationships with Backref\n",
    "\n",
    "One common keyword argument we have used so far in relationship definitions is **backref**. A backref is a common shortcut to place a second relationship() onto the destination table. For example, the following code puts a second relationship() \"posts\" onto the user table by specifying a backref on Post.owner:"
   ]
  },
  {
   "cell_type": "code",
   "execution_count": 68,
   "metadata": {
    "collapsed": true
   },
   "outputs": [],
   "source": [
    "class User(Base):\n",
    "    __tablename__ = 'user'\n",
    "    id = Column(Integer, primary_key=True)\n",
    "    name = Column(String(256))\n",
    " \n",
    " \n",
    "class Post(Base):\n",
    "    __tablename__ = 'post'\n",
    "    id = Column(Integer, primary_key=True)\n",
    "    owner_id = Column(Integer, ForeignKey('user.id'))\n",
    "    owner = relationship(User, backref=backref('posts', uselist=True))"
   ]
  },
  {
   "cell_type": "markdown",
   "metadata": {},
   "source": [
    "This is equivalent to the following definition"
   ]
  },
  {
   "cell_type": "code",
   "execution_count": 69,
   "metadata": {
    "collapsed": false
   },
   "outputs": [],
   "source": [
    "Base = declarative_base()\n",
    "\n",
    "class User(Base):\n",
    "    __tablename__ = 'user'\n",
    "    id = Column(Integer, primary_key=True)\n",
    "    name = Column(String(256))\n",
    "    posts = relationship(\"Post\", back_populates=\"owner\")\n",
    " \n",
    " \n",
    "class Post(Base):\n",
    "    __tablename__ = 'post'\n",
    "    id = Column(Integer, primary_key=True)\n",
    "    owner_id = Column(Integer, ForeignKey('user.id'))\n",
    "    owner = relationship(User, back_populates=\"posts\")    \n",
    "\n",
    "Base.metadata.create_all(engine)      "
   ]
  },
  {
   "cell_type": "markdown",
   "metadata": {},
   "source": [
    "Now we have a **one-to-many** relationship between User and Post. We can interact with these two models in the following way:"
   ]
  },
  {
   "cell_type": "code",
   "execution_count": 70,
   "metadata": {
    "collapsed": false
   },
   "outputs": [
    {
     "data": {
      "text/plain": [
       "[<__main__.Post at 0x5960c50>, <__main__.Post at 0x6c1d6a0>]"
      ]
     },
     "execution_count": 70,
     "metadata": {},
     "output_type": "execute_result"
    }
   ],
   "source": [
    "Base.metadata.create_all(engine)\n",
    "\n",
    "s = session()\n",
    "john = User(name=\"John\")\n",
    "post1 = Post(owner=john)\n",
    "post2 = Post(owner=john)\n",
    "s.add(post1)\n",
    "s.add(post2)\n",
    "s.commit()\n",
    "s.refresh(john)\n",
    "john.posts"
   ]
  },
  {
   "cell_type": "code",
   "execution_count": 71,
   "metadata": {
    "collapsed": false
   },
   "outputs": [
    {
     "data": {
      "text/plain": [
       "<__main__.User at 0x49a4748>"
      ]
     },
     "execution_count": 71,
     "metadata": {},
     "output_type": "execute_result"
    }
   ],
   "source": [
    "john.posts[0].owner"
   ]
  },
  {
   "cell_type": "code",
   "execution_count": 72,
   "metadata": {
    "collapsed": false
   },
   "outputs": [
    {
     "data": {
      "text/plain": [
       "'John'"
      ]
     },
     "execution_count": 72,
     "metadata": {},
     "output_type": "execute_result"
    }
   ],
   "source": [
    "john.posts[0].owner.name"
   ]
  },
  {
   "cell_type": "markdown",
   "metadata": {},
   "source": [
    "#### One-to-One\n",
    "\n",
    "Creating a one-to-one relationship between models is very similar to creating many-to-one relationships. By modifying the uselist argument's value to False in a backref(), we force the database models to be mapped to each other in a one-to-one relationship"
   ]
  },
  {
   "cell_type": "code",
   "execution_count": 73,
   "metadata": {
    "collapsed": false
   },
   "outputs": [],
   "source": [
    "Base = declarative_base()\n",
    "\n",
    "class User(Base):\n",
    "    __tablename__ = 'user'\n",
    "    id = Column(Integer, primary_key=True)\n",
    "    name = Column(String(256))\n",
    " \n",
    " \n",
    "class Address(Base):\n",
    "    __tablename__ = 'address'\n",
    "    id = Column(Integer, primary_key=True)\n",
    "    address = Column(String(256))\n",
    "    user_id = Column(Integer, ForeignKey('user.id'))\n",
    "    user = relationship('User', backref=backref('address', uselist=False))\n",
    "    \n",
    "Base.metadata.create_all(engine)    "
   ]
  },
  {
   "cell_type": "markdown",
   "metadata": {},
   "source": [
    "Then, we can use the models in the following way:"
   ]
  },
  {
   "cell_type": "code",
   "execution_count": 74,
   "metadata": {
    "collapsed": false
   },
   "outputs": [
    {
     "data": {
      "text/plain": [
       "'1234 Park Ave'"
      ]
     },
     "execution_count": 74,
     "metadata": {},
     "output_type": "execute_result"
    }
   ],
   "source": [
    "s = session()\n",
    "john = User(name=\"John\")\n",
    "home_of_john = Address(address=\"1234 Park Ave\", user=john)\n",
    "s.add(home_of_john)\n",
    "s.commit()\n",
    "s.refresh(john)\n",
    "john.address.address "
   ]
  },
  {
   "cell_type": "code",
   "execution_count": 75,
   "metadata": {
    "collapsed": false
   },
   "outputs": [
    {
     "data": {
      "text/plain": [
       "'John'"
      ]
     },
     "execution_count": 75,
     "metadata": {},
     "output_type": "execute_result"
    }
   ],
   "source": [
    "john.address.user.name "
   ]
  },
  {
   "cell_type": "code",
   "execution_count": 76,
   "metadata": {
    "collapsed": true
   },
   "outputs": [],
   "source": [
    "s.close()"
   ]
  },
  {
   "cell_type": "markdown",
   "metadata": {},
   "source": [
    "#### Relationship Update Cascades\n",
    "\n",
    "In a relational database, **referential integrity** guarantees that when the primary key of a referenced object in a one-to-many or many-to-many relationship changes, the refering objects' foreign keys that reference the primary key will change as well.  \n",
    "\n",
    "However, for databases that do not support referential integrity, such as SQLite or MySQL ***with their referential integrity option turned off, changing the primary key values of a referenced object does not trigger updates of the refering objects***. In this case, we can use the **passive_updates flag** in relationship or **backref** to inform the database to execute extra SELECT and UPDATE statements that will update the values of the refering objects' foreign keys.\n",
    "\n",
    "In the following example, we construct a one-to-many relationship between User and Address and ***not specifying the passive_updates flag*** in the relationship. The database backend is SQLite."
   ]
  },
  {
   "cell_type": "code",
   "execution_count": 77,
   "metadata": {
    "collapsed": true
   },
   "outputs": [],
   "source": [
    "Base = declarative_base()\n",
    "\n",
    "class User(Base):\n",
    "    __tablename__ = 'user'\n",
    "    id = Column(Integer, primary_key=True)\n",
    "    name = Column(String(256))\n",
    " \n",
    " \n",
    "class Address(Base):\n",
    "    __tablename__ = 'address'\n",
    "    id = Column(Integer, primary_key=True)\n",
    "    address = Column(String(256))\n",
    "    user_id = Column(Integer, ForeignKey('user.id'))\n",
    "    user = relationship(\n",
    "        'User', backref=backref('addresses', uselist=True)\n",
    "    )\n",
    "    \n",
    "Base.metadata.create_all(engine)   "
   ]
  },
  {
   "cell_type": "markdown",
   "metadata": {},
   "source": [
    "Then, when we change the primary key value of a User object, its Address objects' user_id foreign key values will not change. Therefore, when you want to access an address's user object again, you will get an AttributeError."
   ]
  },
  {
   "cell_type": "code",
   "execution_count": 78,
   "metadata": {
    "collapsed": false
   },
   "outputs": [
    {
     "data": {
      "text/plain": [
       "3"
      ]
     },
     "execution_count": 78,
     "metadata": {},
     "output_type": "execute_result"
    }
   ],
   "source": [
    "s = session()\n",
    "john = User(name='john')\n",
    "home_of_john = Address(address='home', user=john)\n",
    "office_of_john = Address(address='office', user=john)\n",
    "s.add(home_of_john)\n",
    "s.add(office_of_john)\n",
    "s.commit()\n",
    "s.refresh(john)\n",
    "john.id "
   ]
  },
  {
   "cell_type": "code",
   "execution_count": 79,
   "metadata": {
    "collapsed": false
   },
   "outputs": [
    {
     "ename": "AttributeError",
     "evalue": "'NoneType' object has no attribute 'name'",
     "output_type": "error",
     "traceback": [
      "\u001b[1;31m---------------------------------------------------------------------------\u001b[0m",
      "\u001b[1;31mAttributeError\u001b[0m                            Traceback (most recent call last)",
      "\u001b[1;32m<ipython-input-79-7ab57b9c0b91>\u001b[0m in \u001b[0;36m<module>\u001b[1;34m()\u001b[0m\n\u001b[0;32m      3\u001b[0m \u001b[0ms\u001b[0m\u001b[1;33m.\u001b[0m\u001b[0mrefresh\u001b[0m\u001b[1;33m(\u001b[0m\u001b[0mhome_of_john\u001b[0m\u001b[1;33m)\u001b[0m\u001b[1;33m\u001b[0m\u001b[0m\n\u001b[0;32m      4\u001b[0m \u001b[0ms\u001b[0m\u001b[1;33m.\u001b[0m\u001b[0mrefresh\u001b[0m\u001b[1;33m(\u001b[0m\u001b[0moffice_of_john\u001b[0m\u001b[1;33m)\u001b[0m\u001b[1;33m\u001b[0m\u001b[0m\n\u001b[1;32m----> 5\u001b[1;33m \u001b[0mhome_of_john\u001b[0m\u001b[1;33m.\u001b[0m\u001b[0muser\u001b[0m\u001b[1;33m.\u001b[0m\u001b[0mname\u001b[0m\u001b[1;33m\u001b[0m\u001b[0m\n\u001b[0m",
      "\u001b[1;31mAttributeError\u001b[0m: 'NoneType' object has no attribute 'name'"
     ]
    }
   ],
   "source": [
    "john.id = john.id + 1\n",
    "s.commit()\n",
    "s.refresh(home_of_john)\n",
    "s.refresh(office_of_john)\n",
    "home_of_john.user.name"
   ]
  },
  {
   "cell_type": "code",
   "execution_count": 80,
   "metadata": {
    "collapsed": true
   },
   "outputs": [],
   "source": [
    "s.close()"
   ]
  },
  {
   "cell_type": "markdown",
   "metadata": {},
   "source": [
    "If we specify the **passive_updates** flag in the Address model, then we can change the primary key of john and expect SQLAlchemy to issue extra **SELECT and UPDATE** statements to keep home_of_john.user and office_of_john.user up-to-date."
   ]
  },
  {
   "cell_type": "code",
   "execution_count": 81,
   "metadata": {
    "collapsed": true
   },
   "outputs": [],
   "source": [
    "Base = declarative_base()\n",
    "\n",
    "class User(Base):\n",
    "    __tablename__ = 'user'\n",
    "    id = Column(Integer, primary_key=True)\n",
    "    name = Column(String(256))\n",
    " \n",
    " \n",
    "class Address(Base):\n",
    "    __tablename__ = 'address'\n",
    "    id = Column(Integer, primary_key=True)\n",
    "    address = Column(String(256))\n",
    "    user_id = Column(Integer, ForeignKey('user.id'))\n",
    "    user = relationship(\n",
    "        'User', backref=backref('addresses', uselist=True, passive_updates=False)\n",
    "    ) \n",
    "    \n",
    "Base.metadata.create_all(engine) "
   ]
  },
  {
   "cell_type": "code",
   "execution_count": 82,
   "metadata": {
    "collapsed": false
   },
   "outputs": [
    {
     "data": {
      "text/plain": [
       "5"
      ]
     },
     "execution_count": 82,
     "metadata": {},
     "output_type": "execute_result"
    }
   ],
   "source": [
    "s = session()\n",
    "john = User(name='john')\n",
    "home_of_john = Address(address='home', user=john)\n",
    "office_of_john = Address(address='office', user=john)\n",
    "s.add(home_of_john)\n",
    "s.add(office_of_john)\n",
    "s.commit()\n",
    "s.refresh(john)\n",
    "john.id "
   ]
  },
  {
   "cell_type": "code",
   "execution_count": 83,
   "metadata": {
    "collapsed": false
   },
   "outputs": [
    {
     "data": {
      "text/plain": [
       "'john'"
      ]
     },
     "execution_count": 83,
     "metadata": {},
     "output_type": "execute_result"
    }
   ],
   "source": [
    "john.id = john.id + 1\n",
    "s.commit()\n",
    "s.refresh(home_of_john)\n",
    "s.refresh(office_of_john)\n",
    "home_of_john.user.name"
   ]
  },
  {
   "cell_type": "code",
   "execution_count": 84,
   "metadata": {
    "collapsed": true
   },
   "outputs": [],
   "source": [
    "s.close()"
   ]
  },
  {
   "cell_type": "markdown",
   "metadata": {},
   "source": [
    "#### Summary\n",
    "\n",
    "In this article, we dig a little deeper into SQLAlchemy's association tables and the backref keyword argument. It's often crucial to understand the mechanism behind these two concepts to fully master complex join queries, as what will be shown in future articles."
   ]
  }
 ],
 "metadata": {
  "kernelspec": {
   "display_name": "Python 3",
   "language": "python",
   "name": "python3"
  },
  "language_info": {
   "codemirror_mode": {
    "name": "ipython",
    "version": 3
   },
   "file_extension": ".py",
   "mimetype": "text/x-python",
   "name": "python",
   "nbconvert_exporter": "python",
   "pygments_lexer": "ipython3",
   "version": "3.5.1"
  }
 },
 "nbformat": 4,
 "nbformat_minor": 0
}
