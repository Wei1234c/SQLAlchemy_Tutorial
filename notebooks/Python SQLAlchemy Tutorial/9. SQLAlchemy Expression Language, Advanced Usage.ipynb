{
 "cells": [
  {
   "cell_type": "markdown",
   "metadata": {},
   "source": [
    "# 9. SQLAlchemy Expression Language, Advanced Usage\n",
    "http://pythoncentral.io/sqlalchemy-expression-language-advanced/"
   ]
  },
  {
   "cell_type": "code",
   "execution_count": 1,
   "metadata": {
    "collapsed": false
   },
   "outputs": [
    {
     "name": "stdout",
     "output_type": "stream",
     "text": [
      "Once deleted, variables cannot be recovered. Proceed (y/[n])? y\n"
     ]
    }
   ],
   "source": [
    "%reset"
   ]
  },
  {
   "cell_type": "markdown",
   "metadata": {},
   "source": [
    "#### Expression Language\n",
    "\n",
    "One of the core components of SQLAlchemy is the **Expression Language**. It allows the programmer to specify SQL statements in Python constructs and use the constructs directly in more complex queries. Since the expression language is backend-neutral and comprehensively covers every aspect of raw SQL, it is closer to raw SQL than any other component in SQLAlchemy. In this article, we are going to illustrate the power of the expression language using a three table database."
   ]
  },
  {
   "cell_type": "markdown",
   "metadata": {},
   "source": [
    "#### Database Models\n",
    "\n",
    "Suppose we want to model multiple shopping carts, each of which is created by a user and stores multiple products.  \n",
    "From the specification, we can deduce that a user owns multiple shopping carts, a shopping cart includes multiple products, and a product can be included in multiple shopping carts.  \n",
    "Therefore, we want to establish a **many-to-many** relationship between ShoppingCart and Product, and another **one-to-many** between User and ShoppingCart. Let's create the database models:"
   ]
  },
  {
   "cell_type": "code",
   "execution_count": 2,
   "metadata": {
    "collapsed": true
   },
   "outputs": [],
   "source": [
    "from sqlalchemy import Column, DateTime, String, Integer, ForeignKey, Float\n",
    "from sqlalchemy.orm import relationship, backref\n",
    "from sqlalchemy.ext.declarative import declarative_base\n",
    " \n",
    "Base = declarative_base()\n",
    "\n",
    "class User(Base):\n",
    "    __tablename__ = 'user'\n",
    "    id = Column(Integer, primary_key=True)\n",
    "    name = Column(String)\n",
    " \n",
    " \n",
    "class ShoppingCart(Base):\n",
    "    __tablename__ = 'shopping_cart'\n",
    "    id = Column(Integer, primary_key=True)\n",
    "    owner_id = Column(Integer, ForeignKey(User.id))\n",
    "    owner = relationship(\n",
    "        User, backref=backref('shopping_carts', uselist=True)\n",
    "    )\n",
    "    products = relationship(\n",
    "        'Product',\n",
    "        secondary='shopping_cart_product_link'\n",
    "    )\n",
    "    def __repr__(self):\n",
    "        return '( {0}:{1.owner.name}:{1.products!r} )'.format(ShoppingCart, self)\n",
    " \n",
    " \n",
    "class Product(Base):\n",
    "    __tablename__ = 'product'\n",
    "    id = Column(Integer, primary_key=True)\n",
    "    name = Column(String)\n",
    "    # Using a Float is not the right way of modeling a currency value.\n",
    "    # We will investigate that topic in a different article.\n",
    "    price = Column(Float)\n",
    "    shopping_carts = relationship(\n",
    "        'ShoppingCart',\n",
    "        secondary='shopping_cart_product_link'\n",
    "    )\n",
    "    def __repr__(self):\n",
    "        return '( {0}:{1.name!r}:{1.price!r} )'.format(Product, self)\n",
    " \n",
    " \n",
    "class ShoppingCartProductLink(Base):\n",
    "    __tablename__ = 'shopping_cart_product_link'\n",
    "    shopping_cart_id = Column(Integer, ForeignKey('shopping_cart.id'), primary_key=True)\n",
    "    product_id = Column(Integer, ForeignKey('product.id'), primary_key=True)\n",
    " \n",
    " \n",
    "from sqlalchemy import create_engine\n",
    "engine = create_engine('sqlite:///')\n",
    "\n",
    "from sqlalchemy.orm import sessionmaker\n",
    "DBSession = sessionmaker()\n",
    "DBSession.configure(bind=engine)\n",
    "Base.metadata.create_all(engine)"
   ]
  },
  {
   "cell_type": "markdown",
   "metadata": {},
   "source": [
    "#### Create Users, Products and Shopping Carts\n",
    "\n",
    "Now let's create one user and several products."
   ]
  },
  {
   "cell_type": "code",
   "execution_count": 3,
   "metadata": {
    "collapsed": true
   },
   "outputs": [],
   "source": [
    "session = DBSession()\n",
    "\n",
    "cpu = Product(name='CPU', price=300.00)\n",
    "motherboard = Product(name='Motherboard', price=150.00)\n",
    "coffee_machine = Product(name='Coffee Machine', price=30.00)\n",
    "\n",
    "john = User(name='John')\n",
    "session.add(cpu)\n",
    "session.add(motherboard)\n",
    "session.add(coffee_machine)\n",
    "session.add(john)\n",
    "session.commit()\n",
    "session.close()"
   ]
  },
  {
   "cell_type": "markdown",
   "metadata": {},
   "source": [
    "Before progressing further, let's verify that we have one user and three products in the database now."
   ]
  },
  {
   "cell_type": "code",
   "execution_count": 4,
   "metadata": {
    "collapsed": false
   },
   "outputs": [],
   "source": [
    "session = DBSession()\n",
    "cpu = session.query(Product).filter(Product.name == 'CPU').one()\n",
    "motherboard = session.query(Product).filter(Product.name == 'Motherboard').one()\n",
    "coffee_machine = session.query(Product).filter(Product.name == 'Coffee Machine').one()\n",
    "john = session.query(User).filter(User.name == 'John').one()\n",
    "session.close()"
   ]
  },
  {
   "cell_type": "markdown",
   "metadata": {},
   "source": [
    "Now we can create two shopping carts for user John."
   ]
  },
  {
   "cell_type": "code",
   "execution_count": 5,
   "metadata": {
    "collapsed": true
   },
   "outputs": [],
   "source": [
    "session = DBSession()\n",
    "cpu = session.query(Product).filter(Product.name == 'CPU').one()\n",
    "motherboard = session.query(Product).filter(Product.name == 'Motherboard').one()\n",
    "coffee_machine = session.query(Product).filter(Product.name == 'Coffee Machine').one()\n",
    "john = session.query(User).filter(User.name == 'John').one()\n",
    "\n",
    "john_shopping_cart_computer = ShoppingCart(owner=john)\n",
    "john_shopping_cart_kitchen = ShoppingCart(owner=john)\n",
    "\n",
    "john_shopping_cart_computer.products.append(cpu)\n",
    "john_shopping_cart_computer.products.append(motherboard)\n",
    "\n",
    "john_shopping_cart_kitchen.products.append(coffee_machine)\n",
    "\n",
    "session.add(john_shopping_cart_computer)\n",
    "session.add(john_shopping_cart_kitchen)\n",
    "\n",
    "session.commit()\n",
    "session.close()"
   ]
  },
  {
   "cell_type": "markdown",
   "metadata": {},
   "source": [
    "#### Use the Expression Language to Query the Database\n",
    "\n",
    "Now we have one user, three products and two shopping carts in the database, we can start playing with the expression language.  \n",
    "First, let's write a query to answer the question: which products' prices are higher than $100.00?"
   ]
  },
  {
   "cell_type": "code",
   "execution_count": 6,
   "metadata": {
    "collapsed": false
   },
   "outputs": [
    {
     "data": {
      "text/plain": [
       "[( <class '__main__.Product'>:'CPU':300.0 ),\n",
       " ( <class '__main__.Product'>:'Motherboard':150.0 )]"
      ]
     },
     "execution_count": 6,
     "metadata": {},
     "output_type": "execute_result"
    }
   ],
   "source": [
    "from sqlalchemy import select\n",
    "product_higher_than_one_hundred = select([Product.id]).where(Product.price > 100.00) \n",
    "session = DBSession()\n",
    "session.query(Product).filter(Product.id.in_(product_higher_than_one_hundred)).all() "
   ]
  },
  {
   "cell_type": "code",
   "execution_count": 7,
   "metadata": {
    "collapsed": true
   },
   "outputs": [],
   "source": [
    "session.close()"
   ]
  },
  {
   "cell_type": "markdown",
   "metadata": {},
   "source": [
    "Then, let's write a query to answer a more complicated question: which shopping carts contain at least one product whose price is higher than $100.00?"
   ]
  },
  {
   "cell_type": "code",
   "execution_count": 8,
   "metadata": {
    "collapsed": false
   },
   "outputs": [
    {
     "data": {
      "text/plain": [
       "( <class '__main__.ShoppingCart'>:John:[( <class '__main__.Product'>:'CPU':300.0 ), ( <class '__main__.Product'>:'Motherboard':150.0 )] )"
      ]
     },
     "execution_count": 8,
     "metadata": {},
     "output_type": "execute_result"
    }
   ],
   "source": [
    "shopping_carts_with_products_higher_than_one_hundred = \\\n",
    "    select([ShoppingCart.id]).where(ShoppingCart.products.any(Product.id.in_(product_higher_than_one_hundred)))\n",
    "session = DBSession()\n",
    "session.query(ShoppingCart).filter(ShoppingCart.id.in_(shopping_carts_with_products_higher_than_one_hundred)).one() "
   ]
  },
  {
   "cell_type": "code",
   "execution_count": 9,
   "metadata": {
    "collapsed": true
   },
   "outputs": [],
   "source": [
    "session.close()"
   ]
  },
  {
   "cell_type": "markdown",
   "metadata": {},
   "source": [
    "Then, let's write a query to answer a slightly different question: which shopping carts contain no product whose price is lower than $100.00?"
   ]
  },
  {
   "cell_type": "code",
   "execution_count": 10,
   "metadata": {
    "collapsed": false
   },
   "outputs": [
    {
     "data": {
      "text/plain": [
       "[( <class '__main__.ShoppingCart'>:John:[( <class '__main__.Product'>:'CPU':300.0 ), ( <class '__main__.Product'>:'Motherboard':150.0 )] )]"
      ]
     },
     "execution_count": 10,
     "metadata": {},
     "output_type": "execute_result"
    }
   ],
   "source": [
    "products_lower_than_one_hundred = select([Product.id]).where(Product.price < 100.00)\n",
    "from sqlalchemy import not_\n",
    "shopping_carts_with_no_products_lower_than_one_hundred = \\\n",
    "    select([ShoppingCart.id]).where(not_(ShoppingCart.products.any(Product.id.in_(products_lower_than_one_hundred))))\n",
    "session = DBSession()\n",
    "session.query(ShoppingCart).filter(ShoppingCart.id.in_(shopping_carts_with_no_products_lower_than_one_hundred)).all()"
   ]
  },
  {
   "cell_type": "code",
   "execution_count": 11,
   "metadata": {
    "collapsed": true
   },
   "outputs": [],
   "source": [
    "session.close()"
   ]
  },
  {
   "cell_type": "markdown",
   "metadata": {},
   "source": [
    "Or the previous question can be formed in a different way: how can we find the shopping carts all of whose products have a price higher than $100.00?"
   ]
  },
  {
   "cell_type": "code",
   "execution_count": 12,
   "metadata": {
    "collapsed": false
   },
   "outputs": [
    {
     "data": {
      "text/plain": [
       "[( <class '__main__.ShoppingCart'>:John:[( <class '__main__.Product'>:'CPU':300.0 ), ( <class '__main__.Product'>:'Motherboard':150.0 )] )]"
      ]
     },
     "execution_count": 12,
     "metadata": {},
     "output_type": "execute_result"
    }
   ],
   "source": [
    "from sqlalchemy import and_\n",
    "shopping_carts_with_all_products_higher_than_one_hundred = \\\n",
    "    select([ShoppingCart.id]).where(and_(\n",
    "                                         ShoppingCartProductLink.product_id.in_(product_higher_than_one_hundred),\n",
    "                                         ShoppingCartProductLink.shopping_cart_id == ShoppingCart.id\n",
    "                                        )\n",
    "                                   )\n",
    "    \n",
    "session = DBSession()\n",
    "session.query(ShoppingCart).filter(ShoppingCart.id.in_(shopping_carts_with_all_products_higher_than_one_hundred)).all()"
   ]
  },
  {
   "cell_type": "code",
   "execution_count": 13,
   "metadata": {
    "collapsed": true
   },
   "outputs": [],
   "source": [
    "session.close()"
   ]
  },
  {
   "cell_type": "markdown",
   "metadata": {},
   "source": [
    "Now, we can ask a different kind of questions regarding aggregation over Product.price.  \n",
    "For example, we can ask: which shopping carts' total price of the products is higher than $200.00?"
   ]
  },
  {
   "cell_type": "code",
   "execution_count": 14,
   "metadata": {
    "collapsed": false
   },
   "outputs": [
    {
     "data": {
      "text/plain": [
       "[(1, 450.0), (2, 30.0)]"
      ]
     },
     "execution_count": 14,
     "metadata": {},
     "output_type": "execute_result"
    }
   ],
   "source": [
    "from sqlalchemy import func\n",
    "total_price_of_shopping_carts = select([\n",
    "     ShoppingCart.id.label('shopping_cart_id'),\n",
    "     func.sum(Product.price).label('product_price_sum')\n",
    " ]).where(\n",
    "     and_(\n",
    "         ShoppingCartProductLink.product_id == Product.id,\n",
    "         ShoppingCartProductLink.shopping_cart_id == ShoppingCart.id,\n",
    "     )\n",
    " ).group_by(ShoppingCart.id)\n",
    "\n",
    "session = DBSession()\n",
    "session.query(total_price_of_shopping_carts).all()"
   ]
  },
  {
   "cell_type": "code",
   "execution_count": 15,
   "metadata": {
    "collapsed": false
   },
   "outputs": [
    {
     "data": {
      "text/plain": [
       "[( <class '__main__.ShoppingCart'>:John:[( <class '__main__.Product'>:'CPU':300.0 ), ( <class '__main__.Product'>:'Motherboard':150.0 )] )]"
      ]
     },
     "execution_count": 15,
     "metadata": {},
     "output_type": "execute_result"
    }
   ],
   "source": [
    "session.query(ShoppingCart).filter(\n",
    "     ShoppingCart.id == total_price_of_shopping_carts.c.shopping_cart_id,\n",
    "     total_price_of_shopping_carts.c.product_price_sum > 200.00\n",
    " ).all() "
   ]
  },
  {
   "cell_type": "code",
   "execution_count": 16,
   "metadata": {
    "collapsed": false
   },
   "outputs": [
    {
     "data": {
      "text/plain": [
       "[( <class '__main__.ShoppingCart'>:John:[( <class '__main__.Product'>:'Coffee Machine':30.0 )] )]"
      ]
     },
     "execution_count": 16,
     "metadata": {},
     "output_type": "execute_result"
    }
   ],
   "source": [
    "session.query(ShoppingCart).filter(\n",
    "     ShoppingCart.id == total_price_of_shopping_carts.c.shopping_cart_id,\n",
    "     total_price_of_shopping_carts.c.product_price_sum < 200.00\n",
    " ).all()"
   ]
  },
  {
   "cell_type": "code",
   "execution_count": 17,
   "metadata": {
    "collapsed": true
   },
   "outputs": [],
   "source": [
    "session.close()"
   ]
  },
  {
   "cell_type": "markdown",
   "metadata": {},
   "source": [
    "In the previous example, we begin with constructing an SQLAlchemy **selectable total_price_of_shopping_carts** whose 'columns' are ShoppingCart.id of each shopping cart and the sum of all the products' prices in each corresponding shopping cart.  \n",
    "\n",
    "Once we have such a selectable, it's easy to write the query that finds all the shopping carts whose sum of products' prices are higher than $200.00."
   ]
  },
  {
   "cell_type": "markdown",
   "metadata": {},
   "source": [
    "#### Potential Gotchas\n",
    "\n",
    "So far, our example program seems to be working pretty well. But if we accidentally break the program by writing and using the constructs in unintended ways? Will SQLAlchemy inform us about what's wrong with our program so we can debug it?\n",
    "\n",
    "For example, the column Product.price is defined as a Float. What if we create a Product object with a price that's a string? Will SQLAlchemy break because the data type of the input for price is different from the definition? Let's give it a try."
   ]
  },
  {
   "cell_type": "code",
   "execution_count": 18,
   "metadata": {
    "collapsed": false
   },
   "outputs": [
    {
     "data": {
      "text/plain": [
       "0.15"
      ]
     },
     "execution_count": 18,
     "metadata": {},
     "output_type": "execute_result"
    }
   ],
   "source": [
    "session = DBSession()\n",
    "\n",
    "cpu = Product(name='CPU', price='0.15')\n",
    "session.add(cpu)\n",
    "session.commit()\n",
    "# 會自動嘗試做型態的轉換\n",
    "\n",
    "cpu = session.query(Product).filter(Product.name == 'CPU').all()[1]\n",
    "cpu.price"
   ]
  },
  {
   "cell_type": "markdown",
   "metadata": {},
   "source": [
    "So, the product CPU with a string price was inserted successfully into the database. How about using a string for the price that is not a number at all?"
   ]
  },
  {
   "cell_type": "code",
   "execution_count": 19,
   "metadata": {
    "collapsed": false
   },
   "outputs": [],
   "source": [
    "cpu_two = Product(name='CPU Two', price='asdf')\n",
    "#session.add(cpu_two)\n",
    "#session.commit() # StatementError: (builtins.ValueError) could not convert string to float: 'asdf' [SQL: 'INSERT INTO product (name, price) VALUES (?, ?)'] [parameters: [{'name': 'CPU Two', 'price': 'asdf'}]]"
   ]
  },
  {
   "cell_type": "markdown",
   "metadata": {},
   "source": [
    "Oops. Now SQLAlchemy raises a StatementError because \"asdf\" cannot be converted into a Float. This is a good feature since it eliminates potential programming errors caused by carelessness.\n",
    "\n",
    "You might also notice that the ***filter()*** method in our example use expressions such as **Product.name == 'CPU'** and **Product.price > 100.0**. Aren't these expressions being evaluated first and then the resulting Boolean values are passed into the filter() function to get actual filter results? Let's use several examples to verify the behaviour of filter()."
   ]
  },
  {
   "cell_type": "code",
   "execution_count": 20,
   "metadata": {
    "collapsed": false
   },
   "outputs": [
    {
     "data": {
      "text/plain": [
       "[( <class '__main__.Product'>:'CPU':300.0 ),\n",
       " ( <class '__main__.Product'>:'Motherboard':150.0 ),\n",
       " ( <class '__main__.Product'>:'Coffee Machine':30.0 ),\n",
       " ( <class '__main__.Product'>:'CPU':0.15 )]"
      ]
     },
     "execution_count": 20,
     "metadata": {},
     "output_type": "execute_result"
    }
   ],
   "source": [
    "session.query(Product).filter(True).all()"
   ]
  },
  {
   "cell_type": "code",
   "execution_count": 21,
   "metadata": {
    "collapsed": false
   },
   "outputs": [
    {
     "data": {
      "text/plain": [
       "[( <class '__main__.Product'>:'CPU':300.0 ),\n",
       " ( <class '__main__.Product'>:'CPU':0.15 )]"
      ]
     },
     "execution_count": 21,
     "metadata": {},
     "output_type": "execute_result"
    }
   ],
   "source": [
    "# it does not accept expression like Product.name = 'CPU' whose meaning is unclear in the context of a filter\n",
    "session.query(Product).filter(Product.name == 'CPU').all() "
   ]
  },
  {
   "cell_type": "code",
   "execution_count": 22,
   "metadata": {
    "collapsed": false
   },
   "outputs": [
    {
     "data": {
      "text/plain": [
       "[( <class '__main__.Product'>:'CPU':300.0 ),\n",
       " ( <class '__main__.Product'>:'Motherboard':150.0 )]"
      ]
     },
     "execution_count": 22,
     "metadata": {},
     "output_type": "execute_result"
    }
   ],
   "source": [
    "# converts a String value '100.0' into a float \n",
    "session.query(Product).filter(Product.price > '100.0').all() "
   ]
  },
  {
   "cell_type": "markdown",
   "metadata": {},
   "source": [
    "From the examples above, we see that filter() does accept straightforward Boolean values like True, which returns all products in the database. However, it does not accept expression like **Product.name = 'CPU'** whose meaning is unclear in the context of a filter. Like the Product constructor, it also ***converts a String value '100.0' into a float*** and filter the product table based on the final criteria.\n",
    "\n",
    "Now let's examine several cases where the SQLAlchemy API might look a bit less than intuitive.  \n",
    "\n",
    "**First**, the select() statement seems to only accept a **list of columns** as the first argument like select([Product.id]). Wouldn't it be nice if we can write something like select(Product.id)?"
   ]
  },
  {
   "cell_type": "code",
   "execution_count": 23,
   "metadata": {
    "collapsed": false
   },
   "outputs": [],
   "source": [
    "# products_lower_than_one_hundred = select(Product.id).where(Product.price < 100.00)\n",
    "# NotImplementedError: Operator 'getitem' is not supported on this expression"
   ]
  },
  {
   "cell_type": "markdown",
   "metadata": {},
   "source": [
    "Oops. SQLAlchemy does not like a single element as the first argument of select(). Remember, always pass in a list."
   ]
  },
  {
   "cell_type": "markdown",
   "metadata": {},
   "source": [
    "**Second**, the syntax in some of the where clauses do not look Pythonic: ShoppingCart.products.any(Product.id.in_(product_higher_than_one_hundred)). Wouldn't it be nice if we can write something like ShoppingCart.products.any(Product.id in product_higher_than_one_hundred))?"
   ]
  },
  {
   "cell_type": "code",
   "execution_count": 24,
   "metadata": {
    "collapsed": false
   },
   "outputs": [],
   "source": [
    "# shopping_carts_with_products_higher_than_one_hundred = select([ShoppingCart.id]).where(\n",
    "#    ShoppingCart.products.any(Product.id in product_higher_than_one_hundred))\n",
    "# TypeError: argument of type 'Select' is not iterable"
   ]
  },
  {
   "cell_type": "markdown",
   "metadata": {},
   "source": [
    "Since SQLAlchemy's 'Select' objects are not iterable, using it in a in context does not work. It may look like a downside, but it makes sense since a 'Select' object is very flexible in SQLAlchemy. As what's shown in the examples, a 'Select' object can be passed around into any filter() or where() to become part of a more complex query or event another 'Select' object. Supporting iterable on such an object would require lots of changes to the underlying implementation."
   ]
  },
  {
   "cell_type": "markdown",
   "metadata": {},
   "source": [
    "**Third**, the results of query() seem to be returning objects that are formatted nicely, such as ( :u'CPU':300.0 ) as the display for one Product object. It looks different from a typical object like:"
   ]
  },
  {
   "cell_type": "code",
   "execution_count": 25,
   "metadata": {
    "collapsed": false
   },
   "outputs": [
    {
     "data": {
      "text/plain": [
       "<__main__.C at 0x56c0a20>"
      ]
     },
     "execution_count": 25,
     "metadata": {},
     "output_type": "execute_result"
    }
   ],
   "source": [
    "class C: pass\n",
    "c = C()\n",
    "c"
   ]
  },
  {
   "cell_type": "markdown",
   "metadata": {},
   "source": [
    "Why? It's because we overrode the __repr__() method of Product and the print() command from the Python interpreter is calling **repr()** on the resulting array of Product and ShoppingCart objects which call __repr__() of each corresponding class's implementation."
   ]
  },
  {
   "cell_type": "markdown",
   "metadata": {},
   "source": [
    "**Finally**, why does SQLAlchemy implement ***their own Float column type***? Why can't they re-use Python's internal float type?\n",
    "\n",
    "Well, the **short answer** is that SQLAlchemy is an ORM and an ORM maps Python constructs into SQL constructs using a defined type system, and the type system has to be database-agnostic, which means it has to handle different database backends with the same column type.  \n",
    "\n",
    "And the **long answer** is that every column defined in a model has to be defined by SQLAlchemy and the definition / column type implements custom methods that are called by the SQLAlchemy's lower level API to convert a Python construct into a corresponding SQL construct.\n",
    "\n"
   ]
  },
  {
   "cell_type": "markdown",
   "metadata": {},
   "source": [
    "#### Tips and Summary\n",
    "\n",
    "In this article, we used a three-table database to illustrate how to use SQLAlchemy's **Expression Language**. One thing to keep in mind is that we use mathematical sets to guide us on writing SQL queries. Whenever we encounter a question that's not trivial, especially a question involving multiple tables, we should **divide and conquer** the question by answering parts of the question first.  \n",
    "\n",
    "For example, the question 'how can we find all the shopping carts whose products' sum of prices are higher than $200.00' can be divided into the following ones:  \n",
    "1. how can we calculate the sum of products' prices? (func.sum())  \n",
    "2. how can we list all the tuples (ShoppingCart.id, func.sum(Product.price)) in a selectable?  \n",
    "3. how can we use the selectable to write the actual query?"
   ]
  },
  {
   "cell_type": "code",
   "execution_count": null,
   "metadata": {
    "collapsed": true
   },
   "outputs": [],
   "source": []
  }
 ],
 "metadata": {
  "kernelspec": {
   "display_name": "Python 3",
   "language": "python",
   "name": "python3"
  },
  "language_info": {
   "codemirror_mode": {
    "name": "ipython",
    "version": 3
   },
   "file_extension": ".py",
   "mimetype": "text/x-python",
   "name": "python",
   "nbconvert_exporter": "python",
   "pygments_lexer": "ipython3",
   "version": "3.5.1"
  }
 },
 "nbformat": 4,
 "nbformat_minor": 0
}
