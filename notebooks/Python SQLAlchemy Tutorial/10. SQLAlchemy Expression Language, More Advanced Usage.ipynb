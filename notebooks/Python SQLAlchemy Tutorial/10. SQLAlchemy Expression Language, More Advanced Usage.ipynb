{
 "cells": [
  {
   "cell_type": "markdown",
   "metadata": {},
   "source": [
    "# 10. SQLAlchemy Expression Language, More Advanced Usage\n",
    "http://pythoncentral.io/sqlalchemy-expression-language-advanced-usage/"
   ]
  },
  {
   "cell_type": "markdown",
   "metadata": {
    "collapsed": true
   },
   "source": [
    "#### Overview\n",
    "\n",
    "In the previous article [SQLAlchemy Expression Language, Advanced Usage](http://www.pythoncentral.io/sqlalchemy-expression-language-advanced/), we learned the power of SQLAlchemy's expression language through a three table database including User, ShoppingCart, and Product. In this article, we are going to review the concept of **materialised path** in SQLAlchemy and use it to implement product containing relationships, where certain products may include others. For example, a DSLR camera package is one product that may contain a body, a tripod, a lens and a set of cleaning tools while each of the body, the tripod, the lens and the set of cleaning tools is a product as well. In this case, the DSLR camera package **product contains other products**.\n",
    "\n",
    "#### Materialized Path\n",
    "\n",
    "**Materialized Path** is a way to store a **hierarchical data structure**, often a tree, in a relational database. It can be used to handle hierarchical relationship between any types of entities in a database. **sqlamp** is a third-party SQLAlchemy library we will use to demonstrate how to set up a product containing relationship based hierarchical data structure. To install sqlamp, run the following command in your shell:"
   ]
  },
  {
   "cell_type": "code",
   "execution_count": 1,
   "metadata": {
    "collapsed": true
   },
   "outputs": [],
   "source": [
    "# !pip install sqlamp"
   ]
  },
  {
   "cell_type": "markdown",
   "metadata": {},
   "source": [
    "First, let's review what we have done in the previous article."
   ]
  },
  {
   "cell_type": "code",
   "execution_count": 2,
   "metadata": {
    "collapsed": true
   },
   "outputs": [],
   "source": [
    "from sqlalchemy import Column, DateTime, String, Integer, ForeignKey, Float\n",
    "from sqlalchemy.orm import relationship, backref\n",
    "from sqlalchemy.ext.declarative import declarative_base\n",
    "\n",
    "Base = declarative_base()\n",
    "\n",
    "class User(Base):\n",
    "    __tablename__ = 'user'\n",
    "    id = Column(Integer, primary_key=True)\n",
    "    name = Column(String)\n",
    " \n",
    " \n",
    "class ShoppingCart(Base):\n",
    "    __tablename__ = 'shopping_cart'\n",
    "    id = Column(Integer, primary_key=True)\n",
    "    owner_id = Column(Integer, ForeignKey(User.id))\n",
    "    owner = relationship(\n",
    "        User, backref=backref('shopping_carts', uselist=True)\n",
    "    )\n",
    "    products = relationship(\n",
    "        'Product',\n",
    "        secondary='shopping_cart_product_link'\n",
    "    )\n",
    "    def __repr__(self):\n",
    "        return '( {0}:{1.owner.name}:{1.products!r} )'.format(ShoppingCart, self)\n",
    "\n",
    "class Product(Base):\n",
    "    __tablename__ = 'product'\n",
    "    id = Column(Integer, primary_key=True)\n",
    "    name = Column(String)\n",
    "    # Using a Float is not the right way of modeling a currency value.\n",
    "    # We will investigate that topic in a different article.\n",
    "    price = Column(Float)\n",
    "    shopping_carts = relationship(\n",
    "        'ShoppingCart',\n",
    "        secondary='shopping_cart_product_link'\n",
    "    )\n",
    "    def __repr__(self):\n",
    "        return '( {0}:{1.name!r}:{1.price!r} )'.format(Product, self)\n",
    "\n",
    "class ShoppingCartProductLink(Base):\n",
    "    __tablename__ = 'shopping_cart_product_link'\n",
    "    shopping_cart_id = Column(Integer, ForeignKey('shopping_cart.id'), primary_key=True)\n",
    "    product_id = Column(Integer, ForeignKey('product.id'), primary_key=True)"
   ]
  },
  {
   "cell_type": "markdown",
   "metadata": {},
   "source": [
    "We have defined four models, User to represent a set of users, Product to represent a set of products, ShoppingCart to represent a set of shopping carts, each of which is owned by a User and contains multiple Products, and ShoppingCartProductLink which is a link table that connects Product and ShoppingCart.\n",
    "\n",
    "Then, let's introduce **sqlamp** into the model class and see how we can use it to create a **materialised path** for Products."
   ]
  },
  {
   "cell_type": "code",
   "execution_count": 12,
   "metadata": {
    "collapsed": false
   },
   "outputs": [],
   "source": [
    "import sqlamp\n",
    " \n",
    "from sqlalchemy import Column, DateTime, String, Integer, ForeignKey, Float\n",
    "from sqlalchemy.orm import relationship, backref\n",
    "from sqlalchemy.ext.declarative import declarative_base\n",
    "\n",
    "Base = declarative_base(metaclass=sqlamp.DeclarativeMeta)\n",
    "\n",
    "class User(Base):\n",
    "    __tablename__ = 'user'\n",
    "    id = Column(Integer, primary_key=True)\n",
    "    name = Column(String)\n",
    "\n",
    "class ShoppingCart(Base):\n",
    "    __tablename__ = 'shopping_cart'\n",
    "    id = Column(Integer, primary_key=True)\n",
    "    owner_id = Column(Integer, ForeignKey(User.id))\n",
    "    owner = relationship(\n",
    "        User, backref=backref('shopping_carts', uselist=True)\n",
    "    )\n",
    "    products = relationship(\n",
    "        'Product',\n",
    "        secondary='shopping_cart_product_link'\n",
    "    )\n",
    "    def __repr__(self):\n",
    "        return '( {0}:{1.owner.name}:{1.products!r} )'.format(ShoppingCart, self)\n",
    "\n",
    "class Product(Base):\n",
    "    __tablename__ = 'product'\n",
    "    # __mp_manager__ specifies which field of Product is the materialized path manager,\n",
    "    # which is used to manage the query of children and ancestors of products.\n",
    "    __mp_manager__ = 'mp'\n",
    "    id = Column(Integer, primary_key=True)\n",
    "    name = Column(String)\n",
    "    # Using a Float is not the right way of modeling a currency value.\n",
    "    # We will investigate that topic in a different article.\n",
    "    price = Column(Float)\n",
    "    shopping_carts = relationship(\n",
    "        'ShoppingCart',\n",
    "        secondary='shopping_cart_product_link'\n",
    "    )\n",
    "    # Using a self-referential ForeignKey to refer to the parent product\n",
    "    # that contains this product.\n",
    "    parent_id = Column(Integer, ForeignKey('product.id'))\n",
    "    parent = relationship('Product', remote_side=[id])\n",
    "    def __repr__(self):\n",
    "        return '( {0}:{1.name!r}:{1.price!r} )'.format(Product, self)\n",
    "\n",
    "class ShoppingCartProductLink(Base):\n",
    "    __tablename__ = 'shopping_cart_product_link'\n",
    "    shopping_cart_id = Column(Integer, ForeignKey('shopping_cart.id'), primary_key=True)\n",
    "    product_id = Column(Integer, ForeignKey('product.id'), primary_key=True)"
   ]
  },
  {
   "cell_type": "markdown",
   "metadata": {},
   "source": [
    "Notice that we inserted a new foreign key **parent_id** and a new relationship **parent** into the Product model and introduced a new class member field **__mp_manager__**. Now we can use **Product.mp** to query the children and ancestors of any product."
   ]
  },
  {
   "cell_type": "code",
   "execution_count": 13,
   "metadata": {
    "collapsed": true
   },
   "outputs": [],
   "source": [
    "from sqlalchemy import create_engine\n",
    "engine = create_engine('sqlite:///da.db') \n",
    "\n",
    "from sqlalchemy.orm import sessionmaker\n",
    "DBSession = sessionmaker()\n",
    "DBSession.configure(bind=engine)\n",
    "Base.metadata.create_all(engine)\n",
    "\n",
    "camera_package = Product(name='DSLR Camera Package', price=1600.00)\n",
    "tripod = Product(name='Camera Tripod', price=200.00, parent=camera_package)\n",
    "body = Product(name='Camera Body', price=400.00, parent=camera_package)\n",
    "lens = Product(name='Camera Lens', price=1000.00, parent=camera_package)\n",
    "session = DBSession()\n",
    "session.add_all([camera_package, tripod, body, lens])\n",
    "session.commit()"
   ]
  },
  {
   "cell_type": "code",
   "execution_count": 9,
   "metadata": {
    "collapsed": false
   },
   "outputs": [
    {
     "data": {
      "text/plain": [
       "[( <class '__main__.Product'>:'Camera Tripod':200.0 ),\n",
       " ( <class '__main__.Product'>:'Camera Body':400.0 ),\n",
       " ( <class '__main__.Product'>:'Camera Lens':1000.0 )]"
      ]
     },
     "execution_count": 9,
     "metadata": {},
     "output_type": "execute_result"
    }
   ],
   "source": [
    "camera_package.mp.query_children().all()"
   ]
  },
  {
   "cell_type": "code",
   "execution_count": 10,
   "metadata": {
    "collapsed": false
   },
   "outputs": [
    {
     "data": {
      "text/plain": [
       "[( <class '__main__.Product'>:'DSLR Camera Package':1600.0 )]"
      ]
     },
     "execution_count": 10,
     "metadata": {},
     "output_type": "execute_result"
    }
   ],
   "source": [
    "tripod.mp.query_ancestors().all()"
   ]
  },
  {
   "cell_type": "code",
   "execution_count": 11,
   "metadata": {
    "collapsed": false
   },
   "outputs": [
    {
     "data": {
      "text/plain": [
       "[( <class '__main__.Product'>:'DSLR Camera Package':1600.0 )]"
      ]
     },
     "execution_count": 11,
     "metadata": {},
     "output_type": "execute_result"
    }
   ],
   "source": [
    "lens.mp.query_ancestors().all()"
   ]
  },
  {
   "cell_type": "code",
   "execution_count": 15,
   "metadata": {
    "collapsed": false
   },
   "outputs": [
    {
     "data": {
      "text/plain": [
       "<sqlamp.MPInstanceManager at 0x5a5fd88>"
      ]
     },
     "execution_count": 15,
     "metadata": {},
     "output_type": "execute_result"
    }
   ],
   "source": [
    "lens.mp\n",
    "# type of sqlamp.MPInstanceManager"
   ]
  },
  {
   "cell_type": "markdown",
   "metadata": {},
   "source": [
    "#### Processing the Product Tree Recursively\n",
    "\n",
    "To recursively walk down a Product tree, we can call sqlamp.tree_recursive_iterator and traverse all the descendants of the tree using a recursive function."
   ]
  },
  {
   "cell_type": "code",
   "execution_count": 7,
   "metadata": {
    "collapsed": false
   },
   "outputs": [
    {
     "name": "stdout",
     "output_type": "stream",
     "text": [
      "DSLR Camera Package\n",
      "Camera Tripod\n",
      "Camera Body\n",
      "Camera Lens\n"
     ]
    }
   ],
   "source": [
    "def recursive_tree_processor(nodes):\n",
    "    for node, children in nodes:\n",
    "        print('{0}'.format(node.name))\n",
    "        if children:\n",
    "            recursive_tree_processor(children)\n",
    "            \n",
    "query = camera_package.mp.query_descendants(and_self=True)\n",
    "\n",
    "recursive_tree_processor(sqlamp.tree_recursive_iterator(query, Product.mp))"
   ]
  },
  {
   "cell_type": "markdown",
   "metadata": {},
   "source": [
    "#### Summary\n",
    "\n",
    "In this article, we used the previous article's Product to illustrate how to use **sqlamp** to implement materialised paths in SQLAlchemy. By simply inserting a self-referential foreign key and a __mp_manager__ field to Product, we are able to implement a ***hierarchical data structure*** for Product. Since sqlamp is written on top of SQLAlchemy, it should work with any database backends supported by SQLAlchemy."
   ]
  }
 ],
 "metadata": {
  "kernelspec": {
   "display_name": "Python 3",
   "language": "python",
   "name": "python3"
  },
  "language_info": {
   "codemirror_mode": {
    "name": "ipython",
    "version": 3
   },
   "file_extension": ".py",
   "mimetype": "text/x-python",
   "name": "python",
   "nbconvert_exporter": "python",
   "pygments_lexer": "ipython3",
   "version": "3.5.1"
  }
 },
 "nbformat": 4,
 "nbformat_minor": 0
}
