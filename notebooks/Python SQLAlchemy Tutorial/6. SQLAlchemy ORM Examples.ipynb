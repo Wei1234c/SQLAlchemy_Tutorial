{
 "cells": [
  {
   "cell_type": "markdown",
   "metadata": {},
   "source": [
    "# 6. SQLAlchemy ORM Examples\n",
    "http://pythoncentral.io/sqlalchemy-orm-examples/"
   ]
  },
  {
   "cell_type": "code",
   "execution_count": 20,
   "metadata": {
    "collapsed": false
   },
   "outputs": [
    {
     "name": "stdout",
     "output_type": "stream",
     "text": [
      "Once deleted, variables cannot be recovered. Proceed (y/[n])? y\n"
     ]
    }
   ],
   "source": [
    "%reset"
   ]
  },
  {
   "cell_type": "code",
   "execution_count": 21,
   "metadata": {
    "collapsed": true
   },
   "outputs": [],
   "source": [
    "fp = 'orm_in_detail.sqlite'"
   ]
  },
  {
   "cell_type": "markdown",
   "metadata": {},
   "source": [
    "#### ORM Recap\n",
    "\n",
    "In one of the previous articles, we briefly went through an example database with two tables department and employee where one department can have multiple employees and one employee can belong to arbitrary number of departments. We used several code snippets to demonstrate the power of SQLAlchemy's expression language and show how to write ORM queries.\n",
    "\n",
    "In this article, we are going to take a look at SQLAlchemy's ORM in more detail and find out how we can use it more effectively to solve real-world problems.\n",
    "\n",
    "#### Department and Employee\n",
    "\n",
    "We are going to keep using the previous article's department-employee as the example database in this article. We are also going to add more columns to each table to make our example more interesting to play with."
   ]
  },
  {
   "cell_type": "code",
   "execution_count": 22,
   "metadata": {
    "collapsed": true
   },
   "outputs": [],
   "source": [
    "from sqlalchemy import Column, DateTime, String, Integer, ForeignKey, func\n",
    "from sqlalchemy.orm import relationship, backref\n",
    "from sqlalchemy.ext.declarative import declarative_base\n",
    "\n",
    "Base = declarative_base()\n",
    "\n",
    "class Department(Base):\n",
    "    __tablename__ = 'department'\n",
    "    id = Column(Integer, primary_key=True)\n",
    "    name = Column(String)\n",
    " \n",
    " \n",
    "class Employee(Base):\n",
    "    __tablename__ = 'employee'\n",
    "    id = Column(Integer, primary_key=True)\n",
    "    name = Column(String)\n",
    "    # Use default=func.now() to set the default hiring time\n",
    "    # of an Employee to be the current time when an\n",
    "    # Employee record was created\n",
    "    hired_on = Column(DateTime, default = func.now())\n",
    "    department_id = Column(Integer, ForeignKey('department.id'))\n",
    "    # Use cascade='delete,all' to propagate the deletion of a Department onto its Employees\n",
    "    department = relationship(\n",
    "        Department,\n",
    "        backref=backref('employees',\n",
    "                         uselist=True,\n",
    "                         cascade='delete,all')) \n",
    "\n",
    "from sqlalchemy import create_engine\n",
    "engine = create_engine('sqlite:///{0}'.format(fp))\n",
    " \n",
    "from sqlalchemy.orm import sessionmaker\n",
    "session = sessionmaker()\n",
    "session.configure(bind=engine)\n",
    "Base.metadata.create_all(engine)"
   ]
  },
  {
   "cell_type": "markdown",
   "metadata": {},
   "source": [
    "Notice we made two changes to the employee table:  \n",
    "1. we inserted a new column 'hired_on' which is a DateTime column that stores when the employee was hired and,  \n",
    "2. we inserted a keyword argument 'cascade' with a value 'delete,all' to the backref of the relationship Employee.department.The cascade allows SQLAlchemy to automatically delete a department's employees when the department itself is deleted.\n",
    "\n",
    "Now let's write a couple lines of code to play with our new table definitions."
   ]
  },
  {
   "cell_type": "code",
   "execution_count": 23,
   "metadata": {
    "collapsed": false
   },
   "outputs": [
    {
     "data": {
      "text/plain": [
       "[<__main__.Employee at 0x59de860>,\n",
       " <__main__.Employee at 0x59de278>,\n",
       " <__main__.Employee at 0x59def98>]"
      ]
     },
     "execution_count": 23,
     "metadata": {},
     "output_type": "execute_result"
    }
   ],
   "source": [
    "d = Department(name=\"IT\")\n",
    "emp1 = Employee(name=\"John\", department=d)\n",
    "\n",
    "s = session()\n",
    "s.add(d)\n",
    "\n",
    "s.add(emp1)\n",
    "s.commit() \n",
    "\n",
    "s.delete(d)  # Deleting the department also deletes all of its employees.\n",
    "s.commit()\n",
    "\n",
    "s.query(Employee).all()"
   ]
  },
  {
   "cell_type": "markdown",
   "metadata": {},
   "source": [
    "Let's create another employee to test our new DateTime column 'hired_on':"
   ]
  },
  {
   "cell_type": "code",
   "execution_count": 24,
   "metadata": {
    "collapsed": true
   },
   "outputs": [],
   "source": [
    "d = Department(name=\"IT\")\n",
    "s = session()\n",
    "s.add(d)\n",
    "\n",
    "emp2 = Employee(name=\"Marry\", department=d)\n",
    "emp2.hired_on"
   ]
  },
  {
   "cell_type": "code",
   "execution_count": 25,
   "metadata": {
    "collapsed": false
   },
   "outputs": [],
   "source": [
    "s.add(emp2)\n",
    "emp2.hired_on"
   ]
  },
  {
   "cell_type": "code",
   "execution_count": 26,
   "metadata": {
    "collapsed": false
   },
   "outputs": [
    {
     "data": {
      "text/plain": [
       "datetime.datetime(2015, 12, 14, 3, 53, 7)"
      ]
     },
     "execution_count": 26,
     "metadata": {},
     "output_type": "execute_result"
    }
   ],
   "source": [
    "s.commit()\n",
    "emp2.hired_on\n",
    "# 寫入資料庫時，預設值才會產生"
   ]
  },
  {
   "cell_type": "markdown",
   "metadata": {},
   "source": [
    "Did you notice something odd about this short snippet? Since Employee.hired_on is defined to have a default value of func.now(), how come emp2.hired_on is None after it has been created?\n",
    "\n",
    "The answer lies in how func.now() was handled by SQLAlchemy. func generates SQL function expressions. **func.now()** literally translates into **now() in SQL**:"
   ]
  },
  {
   "cell_type": "code",
   "execution_count": 27,
   "metadata": {
    "collapsed": false
   },
   "outputs": [
    {
     "data": {
      "text/plain": [
       "(datetime.datetime(2015, 12, 14, 3, 53, 14),)"
      ]
     },
     "execution_count": 27,
     "metadata": {},
     "output_type": "execute_result"
    }
   ],
   "source": [
    "from sqlalchemy import select\n",
    "rs = s.execute(select([func.now()]))\n",
    "rs.fetchone()"
   ]
  },
  {
   "cell_type": "markdown",
   "metadata": {},
   "source": [
    "As you see, executing the **func.now()** function through the SQLAlchemy database session object gives us the **current datetime** based on our machine's time zone.\n",
    "\n",
    "Before proceeding further, let's **delete** all the records in the department table and the employee table so that we can start later from a clean database."
   ]
  },
  {
   "cell_type": "code",
   "execution_count": 28,
   "metadata": {
    "collapsed": false
   },
   "outputs": [],
   "source": [
    "for department in s.query(Department).all():\n",
    "    s.delete(department)\n",
    "s.commit()"
   ]
  },
  {
   "cell_type": "code",
   "execution_count": 29,
   "metadata": {
    "collapsed": false
   },
   "outputs": [
    {
     "data": {
      "text/plain": [
       "0"
      ]
     },
     "execution_count": 29,
     "metadata": {},
     "output_type": "execute_result"
    }
   ],
   "source": [
    "s.query(Department).count()"
   ]
  },
  {
   "cell_type": "code",
   "execution_count": 30,
   "metadata": {
    "collapsed": false
   },
   "outputs": [
    {
     "data": {
      "text/plain": [
       "0"
      ]
     },
     "execution_count": 30,
     "metadata": {},
     "output_type": "execute_result"
    }
   ],
   "source": [
    "s.query(Employee).count()"
   ]
  },
  {
   "cell_type": "markdown",
   "metadata": {},
   "source": [
    "#### More ORM Queries\n",
    "\n",
    "Let's keep writing queries to become more familiar with the ORM API.  \n",
    "First, we insert several employees into two departments \"IT\" and \"Financial\"."
   ]
  },
  {
   "cell_type": "code",
   "execution_count": 31,
   "metadata": {
    "collapsed": true
   },
   "outputs": [],
   "source": [
    "IT = Department(name=\"IT\")\n",
    "s.add(IT)\n",
    "\n",
    "Financial = Department(name=\"Financial\")\n",
    "s.add(Financial)\n",
    "\n",
    "john = Employee(name=\"John\", department=IT)\n",
    "s.add(john)\n",
    "\n",
    "marry = Employee(name=\"marry\", department=Financial)\n",
    "s.add(marry)\n",
    "\n",
    "cathy = Employee(name=\"Cathy\", department=Financial)\n",
    "s.add(cathy)\n",
    "\n",
    "s.commit()"
   ]
  },
  {
   "cell_type": "markdown",
   "metadata": {},
   "source": [
    "Suppose we want to find all the employees whose name starts with \"C\", we can use **startswith()** to achieve our goal:"
   ]
  },
  {
   "cell_type": "code",
   "execution_count": 32,
   "metadata": {
    "collapsed": false
   },
   "outputs": [
    {
     "data": {
      "text/plain": [
       "'Cathy'"
      ]
     },
     "execution_count": 32,
     "metadata": {},
     "output_type": "execute_result"
    }
   ],
   "source": [
    "s.query(Employee).filter(Employee.name.startswith(\"C\")).one().name  "
   ]
  },
  {
   "cell_type": "markdown",
   "metadata": {},
   "source": [
    "Making the query harder, suppose we want to find all the employees whose name starts with \"C\" and who also work for the Financial department, we can use a join query:"
   ]
  },
  {
   "cell_type": "code",
   "execution_count": 33,
   "metadata": {
    "collapsed": false
   },
   "outputs": [
    {
     "data": {
      "text/plain": [
       "'Cathy'"
      ]
     },
     "execution_count": 33,
     "metadata": {},
     "output_type": "execute_result"
    }
   ],
   "source": [
    "s.query(Employee).join(Employee.department).filter(Employee.name.startswith('C'), Department.name == 'Financial').all()[0].name"
   ]
  },
  {
   "cell_type": "markdown",
   "metadata": {},
   "source": [
    "What if we want to search for employees who are hired before a certain datetime? We can use a normal **datetime comparison operator** in the filter clause."
   ]
  },
  {
   "cell_type": "code",
   "execution_count": 34,
   "metadata": {
    "collapsed": false
   },
   "outputs": [
    {
     "data": {
      "text/plain": [
       "0"
      ]
     },
     "execution_count": 34,
     "metadata": {},
     "output_type": "execute_result"
    }
   ],
   "source": [
    "from datetime import datetime\n",
    "# Find all employees who will be hired in the future\n",
    "s.query(Employee).filter(Employee.hired_on > func.now()).count()"
   ]
  },
  {
   "cell_type": "code",
   "execution_count": 35,
   "metadata": {
    "collapsed": false
   },
   "outputs": [
    {
     "data": {
      "text/plain": [
       "3"
      ]
     },
     "execution_count": 35,
     "metadata": {},
     "output_type": "execute_result"
    }
   ],
   "source": [
    "# Find all employees who have been hired in the past\n",
    "s.query(Employee).filter(Employee.hired_on < func.now()).count()"
   ]
  },
  {
   "cell_type": "markdown",
   "metadata": {},
   "source": [
    "#### Many-to-Many between Department and Employee\n",
    "\n",
    "So far, a Department can have multiple Employees and one Employee belongs to at most one Department. Therefore, there's a one-to-many relationship between Department and Employee. What if an Employee can belong to an arbitrary number of Departments? How do we handle many-to-many relationship?\n",
    "\n",
    "In order to handle a many-to-many relationship between Department and Employee, we are going to create a new **association table** ***\"department_employee_link\"*** with foreign key columns to both Department and Employee. We also need to **remove the backref definition from Department** since we are going to insert a to-many relationship in Employee."
   ]
  },
  {
   "cell_type": "code",
   "execution_count": 36,
   "metadata": {
    "collapsed": false
   },
   "outputs": [],
   "source": [
    "import os\n",
    " \n",
    "from sqlalchemy import Column, DateTime, String, Integer, ForeignKey, func\n",
    "from sqlalchemy.orm import relationship, backref\n",
    "from sqlalchemy.ext.declarative import declarative_base\n",
    " \n",
    "Base = declarative_base()\n",
    "\n",
    "class Department(Base):\n",
    "    __tablename__ = 'department'\n",
    "    id = Column(Integer, primary_key=True)\n",
    "    name = Column(String)\n",
    "    employees = relationship(\n",
    "        'Employee',\n",
    "        secondary='department_employee_link'\n",
    "    )\n",
    "\n",
    "class Employee(Base):\n",
    "    __tablename__ = 'employee'\n",
    "    id = Column(Integer, primary_key=True)\n",
    "    name = Column(String)\n",
    "    hired_on = Column(DateTime, default=func.now())\n",
    "    departments = relationship(Department, secondary='department_employee_link')\n",
    "\n",
    "class DepartmentEmployeeLink(Base):\n",
    "    __tablename__ = 'department_employee_link'\n",
    "    department_id = Column(Integer, ForeignKey('department.id'), primary_key=True)\n",
    "    employee_id = Column(Integer, ForeignKey('employee.id'), primary_key=True)"
   ]
  },
  {
   "cell_type": "markdown",
   "metadata": {},
   "source": [
    "Notice that all the columns in DepartmentEmployeeLink, 'department_id' and 'employee_id', are combined together to form the **primary key** for the table department_employee_link and the relationship arguments in class Department and class Employee have an additional keyword argument **\"secondary\"** which points to the association table.\n",
    "\n",
    "Once we have defined our models, we can use them in the following way:"
   ]
  },
  {
   "cell_type": "code",
   "execution_count": 37,
   "metadata": {
    "collapsed": false
   },
   "outputs": [],
   "source": [
    "# Remove the existing orm_in_detail.sqlite file\n",
    "# if os.path.exists(fp): os.remove(fp)\n",
    "    \n",
    "from sqlalchemy import create_engine\n",
    "engine = create_engine('sqlite:///{0}'.format(fp))\n",
    "\n",
    "from sqlalchemy.orm import sessionmaker\n",
    "session = sessionmaker()\n",
    "session.configure(bind=engine)\n",
    "Base.metadata.create_all(engine)\n",
    "\n",
    "s = session()\n",
    "\n",
    "IT = Department(name=\"IT\")\n",
    "Financial = Department(name=\"Financial\")\n",
    "\n",
    "cathy = Employee(name=\"Cathy\")\n",
    "marry = Employee(name=\"Marry\")\n",
    "john = Employee(name=\"John\")\n",
    "\n",
    "cathy.departments.append(Financial)\n",
    "Financial.employees.append(marry)\n",
    "john.departments.append(IT)\n",
    "\n",
    "s.add(IT)\n",
    "s.add(Financial)\n",
    "\n",
    "s.add(cathy)\n",
    "s.add(marry)\n",
    "s.add(john)\n",
    "\n",
    "s.commit()"
   ]
  },
  {
   "cell_type": "code",
   "execution_count": 38,
   "metadata": {
    "collapsed": false
   },
   "outputs": [
    {
     "data": {
      "text/plain": [
       "'Financial'"
      ]
     },
     "execution_count": 38,
     "metadata": {},
     "output_type": "execute_result"
    }
   ],
   "source": [
    "cathy.departments[0].name "
   ]
  },
  {
   "cell_type": "code",
   "execution_count": 39,
   "metadata": {
    "collapsed": false
   },
   "outputs": [
    {
     "data": {
      "text/plain": [
       "'Financial'"
      ]
     },
     "execution_count": 39,
     "metadata": {},
     "output_type": "execute_result"
    }
   ],
   "source": [
    "marry.departments[0].name"
   ]
  },
  {
   "cell_type": "code",
   "execution_count": 40,
   "metadata": {
    "collapsed": false
   },
   "outputs": [
    {
     "data": {
      "text/plain": [
       "'IT'"
      ]
     },
     "execution_count": 40,
     "metadata": {},
     "output_type": "execute_result"
    }
   ],
   "source": [
    "john.departments[0].name"
   ]
  },
  {
   "cell_type": "code",
   "execution_count": 41,
   "metadata": {
    "collapsed": false
   },
   "outputs": [
    {
     "data": {
      "text/plain": [
       "'John'"
      ]
     },
     "execution_count": 41,
     "metadata": {},
     "output_type": "execute_result"
    }
   ],
   "source": [
    "IT.employees[0].name"
   ]
  },
  {
   "cell_type": "markdown",
   "metadata": {},
   "source": [
    "Notice that we use **Employee.departments.append()** to append one Department to the list of departments of an Employee.\n",
    "\n",
    "To find a list of employees in the IT department no matter whether they belong to other departments or not, we can use the **relationship.any()** function."
   ]
  },
  {
   "cell_type": "code",
   "execution_count": 42,
   "metadata": {
    "collapsed": false
   },
   "outputs": [
    {
     "data": {
      "text/plain": [
       "'John'"
      ]
     },
     "execution_count": 42,
     "metadata": {},
     "output_type": "execute_result"
    }
   ],
   "source": [
    "s.query(Employee).filter(Employee.departments.any(Department.name == 'IT')).all()[0].name"
   ]
  },
  {
   "cell_type": "markdown",
   "metadata": {},
   "source": [
    "On the other hand, to find a list of departments which have John as one of their employees, we can use the same function."
   ]
  },
  {
   "cell_type": "code",
   "execution_count": 43,
   "metadata": {
    "collapsed": false
   },
   "outputs": [
    {
     "data": {
      "text/plain": [
       "'IT'"
      ]
     },
     "execution_count": 43,
     "metadata": {},
     "output_type": "execute_result"
    }
   ],
   "source": [
    "s.query(Department).filter(Department.employees.any(Employee.name == 'John')).all()[0].name"
   ]
  },
  {
   "cell_type": "markdown",
   "metadata": {},
   "source": [
    "#### Summary and Tips\n",
    "\n",
    "In this article, we take a deeper look at SQLAlchemy's ORM library and wrote more queries to explore the API. Notice that when you want to **cascade deletion from the foreign key referred object to the referring object**, you can specify **cascade='all,delete'** in the backref of the refering object's foreign key definition (as what's shown in the example relationship Employee.department)."
   ]
  },
  {
   "cell_type": "code",
   "execution_count": null,
   "metadata": {
    "collapsed": true
   },
   "outputs": [],
   "source": []
  }
 ],
 "metadata": {
  "kernelspec": {
   "display_name": "Python 3",
   "language": "python",
   "name": "python3"
  },
  "language_info": {
   "codemirror_mode": {
    "name": "ipython",
    "version": 3
   },
   "file_extension": ".py",
   "mimetype": "text/x-python",
   "name": "python",
   "nbconvert_exporter": "python",
   "pygments_lexer": "ipython3",
   "version": "3.5.1"
  }
 },
 "nbformat": 4,
 "nbformat_minor": 0
}
