{
 "cells": [
  {
   "cell_type": "markdown",
   "metadata": {},
   "source": [
    "# 5. SQLAlchemy – Some Commonly Asked Questions\n",
    "http://pythoncentral.io/sqlalchemy-faqs/"
   ]
  },
  {
   "cell_type": "code",
   "execution_count": null,
   "metadata": {
    "collapsed": false
   },
   "outputs": [],
   "source": [
    "%reset"
   ]
  },
  {
   "cell_type": "markdown",
   "metadata": {
    "collapsed": true
   },
   "source": [
    "#### SQLAlchemy Schema Reflection / Introspection\n",
    "\n",
    "Instead of creating a schema automatically from the SQLAlchemy, as what's shown in the previous articles using Base.metadata.create_all(engine), we can also instruct a Table object to load information about itself from the corresponding database schema object already existing within the database.\n",
    "\n",
    "Let's create an example sqlite3 database with one table person that stores one record:"
   ]
  },
  {
   "cell_type": "code",
   "execution_count": null,
   "metadata": {
    "collapsed": false
   },
   "outputs": [],
   "source": [
    "import sqlite3\n",
    " \n",
    "conn = sqlite3.connect(\"example.db\")\n",
    "c = conn.cursor()\n",
    "c.execute('''\n",
    "          CREATE TABLE IF NOT EXISTS person  (name text, email text)\n",
    "          ''')\n",
    "c.execute(\"INSERT INTO person VALUES ('john', 'john@example.com')\")\n",
    "c.close()"
   ]
  },
  {
   "cell_type": "markdown",
   "metadata": {},
   "source": [
    "Now we can reflect the structure of table person using the arguments **autoload** and **autoload_with** in the Table constructor."
   ]
  },
  {
   "cell_type": "code",
   "execution_count": null,
   "metadata": {
    "collapsed": false
   },
   "outputs": [],
   "source": [
    "from sqlalchemy import create_engine, MetaData, Table\n",
    "\n",
    "engine = create_engine('sqlite:///example.db')\n",
    "meta = MetaData(bind=engine)\n",
    "person = Table(\"person\", meta, autoload=True, autoload_with=engine)\n",
    "person"
   ]
  },
  {
   "cell_type": "code",
   "execution_count": null,
   "metadata": {
    "collapsed": false
   },
   "outputs": [],
   "source": [
    "[c.name for c in person.columns]"
   ]
  },
  {
   "cell_type": "markdown",
   "metadata": {},
   "source": [
    "We can also reflect all tables in the database using the MetaData.reflect method."
   ]
  },
  {
   "cell_type": "code",
   "execution_count": null,
   "metadata": {
    "collapsed": false
   },
   "outputs": [],
   "source": [
    "meta = MetaData()\n",
    "meta.reflect(bind=engine)\n",
    "person = meta.tables['person']\n",
    "person"
   ]
  },
  {
   "cell_type": "markdown",
   "metadata": {},
   "source": [
    "Albeit very powerful, reflection does have its limitations. It's important to remember reflection constructs Table metadata using only information available in the relational database. Naturally, such a process cannot restore aspects of a schema that are not actually stored in the database. The aspects that are not available include but not limited to:\n",
    "\n",
    "1. Client side defaults, Python functions or SQL expressions defined using the default keyword of the Column constructor.\n",
    "2. Column information, defined in the Column.info dictionary.\n",
    "3. The value of the .quote setting for Column or Table.\n",
    "4. The association of a particular Sequence with a given Column.  \n",
    "\n",
    "Recent improvements in SQLAlchemy allow structures like views, indexes and foreign key options to be reflected. Structures like CHECK constraints, table comments and triggers are not reflected.\n",
    "\n",
    "#### Performance Overhead of SQLAlchemy\n",
    "\n",
    "Since SQLAlchemy uses the **unit of work** pattern when synchronizing changes, i.e., **session.commit()**, to the database, it does more than just \"inserts\" data as in a raw SQL statement. It tracks changes made to a session's object and maintain an identity map for all the objects. It also performs a fair bit amount of bookkeeping and maintains the integrity of any CRUD operations. Overall, unit of work automates the task of persisting a complex object graph into a relational database without writing explicit procedural persistence code. Of course, such an advanced automation has a price.\n",
    "\n",
    "Since SQLAlchemy's ORM is not designed to deal with bulk insertions, we can write an example to test its efficiency against raw SQL. Besides the ORM and raw SQL implementation of a bulk insertion test case, we also implement a version that uses SQLAlchemy's **Core system**. Since SQLAlchemy's Core is a thin layer of abstraction above the raw SQL, we expect it to achieve comparable level of performance to raw SQL."
   ]
  },
  {
   "cell_type": "code",
   "execution_count": null,
   "metadata": {
    "collapsed": false
   },
   "outputs": [],
   "source": [
    "import time\n",
    "import sqlite3\n",
    "\n",
    "from sqlalchemy.ext.declarative import declarative_base\n",
    "from sqlalchemy import Column, Integer, String, create_engine\n",
    "from sqlalchemy.orm import scoped_session, sessionmaker\n",
    "\n",
    "Base = declarative_base()\n",
    "session = scoped_session(sessionmaker())\n",
    "\n",
    "class User(Base):\n",
    "    __tablename__ = \"user\"\n",
    "    id = Column(Integer, primary_key=True)\n",
    "    name = Column(String(255))\n",
    " \n",
    " \n",
    "def init_db(dbname='sqlite:///example1.db'):\n",
    "    engine = create_engine(dbname, echo=False)\n",
    "    session.remove()\n",
    "    session.configure(bind=engine, autoflush=False, expire_on_commit=False)\n",
    "    Base.metadata.drop_all(engine)\n",
    "    Base.metadata.create_all(engine)\n",
    "    return engine\n",
    "\n",
    "def test_sqlalchemy_orm(number_of_records=100000):\n",
    "    init_db()\n",
    "    start = time.time()\n",
    "    for i in range(number_of_records):\n",
    "        user = User()\n",
    "        user.name = 'NAME ' + str(i)\n",
    "        session.add(user)\n",
    "    session.commit()\n",
    "    end = time.time()\n",
    "    print (\"SQLAlchemy ORM: Insert {0} records in {1} seconds\".format(\n",
    "        str(number_of_records), str(end - start)\n",
    "    ))\n",
    " \n",
    " \n",
    "def test_sqlalchemy_core(number_of_records=100000):\n",
    "    engine = init_db()\n",
    "    start = time.time()\n",
    "    engine.execute(\n",
    "        User.__table__.insert(),\n",
    "        [{\"name\": \"NAME \" + str(i)} for i in range(number_of_records)]\n",
    "    )\n",
    "    end = time.time()\n",
    "    print (\"SQLAlchemy Core: Insert {0} records in {1} seconds\".format(\n",
    "        str(number_of_records), str(end - start)\n",
    "    ))\n",
    "\n",
    "def init_sqlite3(dbname=\"sqlite3.db\"):\n",
    "    conn = sqlite3.connect(dbname)\n",
    "    cursor = conn.cursor()\n",
    "    cursor.execute(\"DROP TABLE IF EXISTS user\")\n",
    "    cursor.execute(\"CREATE TABLE user (id INTEGER NOT NULL, name VARCHAR(255), PRIMARY KEY(id))\")\n",
    "    conn.commit()\n",
    "    return conn\n",
    " \n",
    "def test_sqlite3(number_of_records=100000):\n",
    "    conn = init_sqlite3()\n",
    "    cursor = conn.cursor()\n",
    "    start = time.time()\n",
    "    for i in range(number_of_records):\n",
    "        cursor.execute(\"INSERT INTO user (name) VALUES (?)\", (\"NAME \" + str(i),))\n",
    "    conn.commit()\n",
    "    end = time.time()\n",
    "    print (\"sqlite3: Insert {0} records in {1} seconds\".format(\n",
    "        str(number_of_records), str(end - start)\n",
    "    ))\n",
    "\n",
    "def doIt():    \n",
    "    test_sqlite3()\n",
    "    test_sqlalchemy_core()\n",
    "    test_sqlalchemy_orm()\n",
    "\n",
    "if __name__ == \"__main__\":  \n",
    "    doIt()"
   ]
  },
  {
   "cell_type": "markdown",
   "metadata": {},
   "source": [
    "In the previous code, we compare the performance of bulk inserting 100000 user records into a sqlite3 database using raw SQL, SQLAlchemy's Core and SQLAlchemy's ORM.  \n",
    "\n",
    "Notice that the Core and raw SQL achieved comparable insertion speed while the ORM is much slower than the other two.  \n",
    "Although it looks like the ORM incurs a large performance overhead, keep in mind that the overhead becomes significant only when there is a large amount of data to be inserted.  \n",
    "Since most web applications run small CRUD operations in one request-response cycle, **it's preferred to using the ORM instead of the Core due to the extra convenience and better maintainability.**"
   ]
  },
  {
   "cell_type": "markdown",
   "metadata": {},
   "source": [
    "#### SQLAlchemy and database permissions\n",
    "\n",
    "So far, our examples have been working well with sqlite3 databases, which do not have fine-grained **access control** such as user and permission management. What if we want to use SQLAlchemy with MySQL or PostgreSQL? What happens when the user connected to the database does not have enough permission to create tables, indexes, etc.? Will SQLAlchemy throw a database access exception?\n",
    "\n",
    "Let's use an example to test the behaviour of SQLAlchemy's ORM when there is not enough permissions given to a user. First, we create a testing database \"test_sqlalchemy\" and a testing user \"sqlalchemy\"."
   ]
  },
  {
   "cell_type": "markdown",
   "metadata": {},
   "source": [
    "#### SQLAlchemy's Schema Migration\n",
    "\n",
    "There are at least two libraries available for performing SQLAlchemy migrations: **migrate** documentation link and **alembic** documentation link.\n",
    "\n",
    "Since **alembic** was written by the author of SQLAlchemy and actively developed, we recommend you to use it instead of migrate. Not only does alembic allow you to manually write migration scripts, it also provides a way to auto-generate the scripts. We will further explore how to use alembic in another article."
   ]
  },
  {
   "cell_type": "markdown",
   "metadata": {},
   "source": [
    "#### SQLAlchemy's Support for Triggers\n",
    "\n",
    "SQL **triggers** can be created using custom DDL constructs and hooked to SQLAlchemy's **events**. Although it's not a direct support for triggers, it's easy to implement and plug into any system. We will take a look at custom DDL and events in another article."
   ]
  },
  {
   "cell_type": "markdown",
   "metadata": {},
   "source": [
    "#### Tips and Summary\n",
    "In this article, we answered a couple common questions regarding SQLAlchemy from a SQL database admin's point of view.  \n",
    "\n",
    "Although SQLAlchemy defaults to create a database schema for you, **it also allows you to reflect on an existing schema and generates Table objects for you**.  \n",
    "\n",
    "There's a performance overhead when using SQLAlchemy's ORM, but it's mostly obvious when performing bulk insertions, while most web applications perform relatively small CRUD operations.  \n",
    "\n",
    "If your database user does not have enough permissions to perform certain actions on a table, SQLAlchemy will throw an exception that shows exactly why you cannot perform the actions.  \n",
    "\n",
    "There are two migration libraries for SQLAlchemy and alembic is highly recommended.  \n",
    "\n",
    "Although triggers are not directly supported, you can easily write them in raw SQL and hook them up using custom DDL and SQLAlchemy events."
   ]
  },
  {
   "cell_type": "code",
   "execution_count": null,
   "metadata": {
    "collapsed": true
   },
   "outputs": [],
   "source": []
  }
 ],
 "metadata": {
  "kernelspec": {
   "display_name": "Python 3",
   "language": "python",
   "name": "python3"
  },
  "language_info": {
   "codemirror_mode": {
    "name": "ipython",
    "version": 3
   },
   "file_extension": ".py",
   "mimetype": "text/x-python",
   "name": "python",
   "nbconvert_exporter": "python",
   "pygments_lexer": "ipython3",
   "version": "3.5.1"
  }
 },
 "nbformat": 4,
 "nbformat_minor": 0
}
