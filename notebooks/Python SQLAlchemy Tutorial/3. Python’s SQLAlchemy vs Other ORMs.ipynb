{
 "cells": [
  {
   "cell_type": "markdown",
   "metadata": {},
   "source": [
    "# 3. Python’s SQLAlchemy vs Other ORMs\n",
    "http://pythoncentral.io/sqlalchemy-vs-orms/"
   ]
  },
  {
   "cell_type": "markdown",
   "metadata": {},
   "source": [
    "### Comparison Between Python ORMs\n",
    "\n",
    "For each Python ORM presented in this article, we are going to list their pros and cons here:\n",
    "\n",
    "#### SQLObject\n",
    "\n",
    "Pros:  \n",
    "Adopted the easy-to-understand ActiveRecord pattern  \n",
    "A relatively small codebase  \n",
    "\n",
    "Cons:  \n",
    "Naming of methods and classes follow Java's camelCase style  \n",
    "Does not support database sessions to isolate unit of work  \n",
    "\n",
    "#### Storm\n",
    "\n",
    "Pros:  \n",
    "A clean and lightweight API leading to short learning curve and long-term maintainability  \n",
    "Does not need special class constructors, nor imperative base classes  \n",
    "\n",
    "Cons:  \n",
    "Forcing the programmer to write manual table-creation DDL statements instead of automatically deriving it from the model class  \n",
    "Contributors of Storm have to give their contributions' copyrights to Canonical Ltd.  \n",
    "\n",
    "#### Django's ORM\n",
    "\n",
    "Pros:  \n",
    "Easy-to-use with a short learning curve  \n",
    "Tightly integrated with Django to make it the de-factor standard when dealing with databases in Django  \n",
    "\n",
    "Cons:  \n",
    "Does not handle complex queries very well; forcing the developer to go back to raw SQL  \n",
    "Tightly integrated with Django; making it hard to use outside of a Django context  \n",
    "\n",
    "#### peewee\n",
    "\n",
    "Pros:  \n",
    "A Django-ish API; making it easy-to-use  \n",
    "A lightweight implementation; making it easy to integrate with any web framework  \n",
    "\n",
    "Cons:  \n",
    "Does not support automatic schema migrations  \n",
    "Many-to-Many queries are not intuitive to write  \n",
    "\n",
    "#### SQLAlchemy\n",
    "\n",
    "Pros:  \n",
    "Enterprise-level APIs; making the code robust and adaptable  \n",
    "Flexible design; making it painless to write complex queries  \n",
    "\n",
    "Cons:  \n",
    "The Unit-of-work concept is not common  \n",
    "A heavyweight API; leading to a long learning curve  \n",
    "\n",
    "#### PonyORM\n",
    "\n",
    "Pros:  \n",
    "A very convenient syntax for writing queries  \n",
    "Automatic query optimization  \n",
    "Simplified setup and usage  \n",
    "\n",
    "Cons:  \n",
    "Not designed to process hundreds of thousands or millions of records simultaneously  \n",
    "\n",
    "\n",
    "### Summary and Tips\n",
    "\n",
    "Compared to other ORMs, SQLAlchemy stands out in its focus on the unit-of-work concept which is prevalent whenever you write SQLAlchemy code. The DBSession concept might be hard to understand and use correctly initially, but later you will appreciate the additional complexity which reduces accidental database commit-timing-related bugs to almost zero. Dealing with multiple databases in SQLAlchemy can be tricky since each DB session is confined to one database connection. However, this kind of limitation is actually a good thing since it forces you to think hard about the interaction between multiple databases and make it easier to debug database interaction code.  \n",
    "\n",
    "In the future articles, we are going to fully explore more advanced use cases of SQLAlchemy to truly grasp its immensely powerful APIs.  "
   ]
  }
 ],
 "metadata": {
  "kernelspec": {
   "display_name": "Python 3",
   "language": "python",
   "name": "python3"
  },
  "language_info": {
   "codemirror_mode": {
    "name": "ipython",
    "version": 3
   },
   "file_extension": ".py",
   "mimetype": "text/x-python",
   "name": "python",
   "nbconvert_exporter": "python",
   "pygments_lexer": "ipython3",
   "version": "3.5.1"
  }
 },
 "nbformat": 4,
 "nbformat_minor": 0
}
