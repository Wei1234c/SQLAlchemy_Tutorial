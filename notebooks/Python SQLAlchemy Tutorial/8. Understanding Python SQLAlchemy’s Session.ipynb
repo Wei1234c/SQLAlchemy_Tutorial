{
 "cells": [
  {
   "cell_type": "markdown",
   "metadata": {},
   "source": [
    "# 8. Understanding Python SQLAlchemy’s Session\n",
    "http://pythoncentral.io/understanding-python-sqlalchemy-session/"
   ]
  },
  {
   "cell_type": "code",
   "execution_count": 46,
   "metadata": {
    "collapsed": false
   },
   "outputs": [
    {
     "name": "stdout",
     "output_type": "stream",
     "text": [
      "Once deleted, variables cannot be recovered. Proceed (y/[n])? y\n"
     ]
    }
   ],
   "source": [
    "%reset"
   ]
  },
  {
   "cell_type": "markdown",
   "metadata": {},
   "source": [
    "#### What are SQLAlchemy Sessions? What does the Session do?\n",
    "\n",
    "One of the core concepts in SQLAlchemy is the Session. A **Session** establishes and maintains all conversations between your program and the databases. It represents an intermediary zone for all the Python model objects you have loaded in it. It is one of the entry points to initiate a query against the database, whose results are populated and mapped into unique objects within the Session. A unique object is the only object in the Session with a particular primary key.\n",
    "\n",
    "A typical lifespan of a Session looks like this:\n",
    "\n",
    "- A Session is constructed, at which point it is not associated with any model objects.\n",
    "- The Session receives **query requests**, whose results are persisted / associated with the Session.\n",
    "- Arbitrary number of **model objects** are constructed and then ***added to the Session***, after which point the Session starts to maintain and manage those objects.\n",
    "- Once all the changes are made against the objects in the Session, we may decide to **commit** the changes from the Session to the database or **rollback** those changes in the Session. **Session.commit()** means that the changes made to the objects in the Session so far will be persisted into the database while **Session.rollback()** means those changes will be discarded.\n",
    "- **Session.close()** will close the Session and its corresponding **connections**, which means we are done with the Session and want to release the connection object associated with it.  \n",
    "\n",
    "#### Understanding SQLAlchemy Sessions by Examples\n",
    "\n",
    "Let's use a simple example to illustrate how to use Session to insert objects into the databases."
   ]
  },
  {
   "cell_type": "code",
   "execution_count": 47,
   "metadata": {
    "collapsed": true
   },
   "outputs": [],
   "source": [
    "from sqlalchemy import Column, String, Integer, ForeignKey\n",
    "from sqlalchemy.ext.declarative import declarative_base\n",
    " \n",
    "Base = declarative_base()\n",
    " \n",
    "class User(Base):\n",
    "    __tablename__ = 'user'\n",
    "    id = Column(Integer, primary_key=True)\n",
    "    name = Column(String)\n",
    " \n",
    " \n",
    "from sqlalchemy import create_engine\n",
    "engine = create_engine('sqlite:///')\n",
    " \n",
    "from sqlalchemy.orm import sessionmaker\n",
    " \n",
    "# Construct a sessionmaker object\n",
    "session = sessionmaker()\n",
    " \n",
    "# Bind the sessionmaker to engine\n",
    "session.configure(bind=engine)\n",
    " \n",
    "# Create all the tables in the database which are\n",
    "# defined by Base's subclasses such as User\n",
    "Base.metadata.create_all(engine)"
   ]
  },
  {
   "cell_type": "markdown",
   "metadata": {},
   "source": [
    "#### Create and Persist Session Objects\n",
    "Once we have a session, we can create objects and add them to the session."
   ]
  },
  {
   "cell_type": "code",
   "execution_count": 48,
   "metadata": {
    "collapsed": true
   },
   "outputs": [],
   "source": [
    "# Make a new Session object\n",
    "s = session()\n",
    "john = User(name='John')\n",
    " \n",
    "# Add User john to the Session object\n",
    "s.add(john)\n",
    " \n",
    "# Commit the new User John to the database\n",
    "s.commit()"
   ]
  },
  {
   "cell_type": "markdown",
   "metadata": {},
   "source": [
    "Let's insert another user Mary and inspect the new object's id at each step during the insertion process."
   ]
  },
  {
   "cell_type": "code",
   "execution_count": 49,
   "metadata": {
    "collapsed": false
   },
   "outputs": [
    {
     "name": "stdout",
     "output_type": "stream",
     "text": [
      "None Mary\n"
     ]
    }
   ],
   "source": [
    "mary = User(name='Mary')\n",
    "print(mary.id, mary.name)"
   ]
  },
  {
   "cell_type": "code",
   "execution_count": 50,
   "metadata": {
    "collapsed": false
   },
   "outputs": [
    {
     "name": "stdout",
     "output_type": "stream",
     "text": [
      "None Mary\n"
     ]
    }
   ],
   "source": [
    "s.add(mary)\n",
    "print(mary.id, mary.name)"
   ]
  },
  {
   "cell_type": "code",
   "execution_count": 51,
   "metadata": {
    "collapsed": false
   },
   "outputs": [
    {
     "name": "stdout",
     "output_type": "stream",
     "text": [
      "2 Mary\n"
     ]
    }
   ],
   "source": [
    "s.commit()\n",
    "print(mary.id, mary.name) "
   ]
  },
  {
   "cell_type": "markdown",
   "metadata": {},
   "source": [
    "  Notice that mary.id is None before s.commit() is called. Why?  \n",
    "  Because the object mary has not been committed to the database when it's constructed and added to s, it does not have a primary key assigned by the underlying SQLite database.  \n",
    "  Once the new object mary is committed by s, then it is assigned a id value by the underlying SQLite database."
   ]
  },
  {
   "cell_type": "markdown",
   "metadata": {},
   "source": [
    "#### Query Objects\n",
    "\n",
    "Once we have both John and Mary in the database, we can query them using a Session."
   ]
  },
  {
   "cell_type": "code",
   "execution_count": 52,
   "metadata": {
    "collapsed": false
   },
   "outputs": [
    {
     "data": {
      "text/plain": [
       "2"
      ]
     },
     "execution_count": 52,
     "metadata": {},
     "output_type": "execute_result"
    }
   ],
   "source": [
    "mary = s.query(User).filter(User.name == 'Mary').one()\n",
    "john = s.query(User).filter(User.name == 'John').one()\n",
    "mary.id"
   ]
  },
  {
   "cell_type": "code",
   "execution_count": 53,
   "metadata": {
    "collapsed": false
   },
   "outputs": [
    {
     "data": {
      "text/plain": [
       "1"
      ]
     },
     "execution_count": 53,
     "metadata": {},
     "output_type": "execute_result"
    }
   ],
   "source": [
    "john.id"
   ]
  },
  {
   "cell_type": "markdown",
   "metadata": {},
   "source": [
    "As you can see, the queried objects have valid id values from the database."
   ]
  },
  {
   "cell_type": "markdown",
   "metadata": {},
   "source": [
    "#### Update Objects\n",
    "\n",
    "We can change the name of Mary just like changing the attribute of a normal Python object, as long as we remember to call **session.commit()** at the end."
   ]
  },
  {
   "cell_type": "code",
   "execution_count": 54,
   "metadata": {
    "collapsed": false
   },
   "outputs": [
    {
     "data": {
      "text/plain": [
       "'Mariana'"
      ]
     },
     "execution_count": 54,
     "metadata": {},
     "output_type": "execute_result"
    }
   ],
   "source": [
    "mary.name = 'Mariana'\n",
    "s.commit()\n",
    "mary.name"
   ]
  },
  {
   "cell_type": "code",
   "execution_count": 55,
   "metadata": {
    "collapsed": false
   },
   "outputs": [
    {
     "data": {
      "text/plain": [
       "<__main__.User at 0x5b06470>"
      ]
     },
     "execution_count": 55,
     "metadata": {},
     "output_type": "execute_result"
    }
   ],
   "source": [
    "s.query(User).filter(User.name == 'Mariana').one()"
   ]
  },
  {
   "cell_type": "code",
   "execution_count": 56,
   "metadata": {
    "collapsed": false
   },
   "outputs": [],
   "source": [
    "mary.name = 'Mary'\n",
    "s.commit()\n",
    "# s.query(User).filter(User.name == 'Mariana').one() # 會出錯，因為已經改名了，所以查不到"
   ]
  },
  {
   "cell_type": "code",
   "execution_count": 57,
   "metadata": {
    "collapsed": false
   },
   "outputs": [
    {
     "data": {
      "text/plain": [
       "<__main__.User at 0x5b06470>"
      ]
     },
     "execution_count": 57,
     "metadata": {},
     "output_type": "execute_result"
    }
   ],
   "source": [
    "s.query(User).filter(User.name == 'Mary').one()"
   ]
  },
  {
   "cell_type": "markdown",
   "metadata": {},
   "source": [
    "#### Delete Objects\n",
    "\n",
    "Now we have two User objects persisted in the database, Mary and John. We are going to delete them by calling delete() of the session object."
   ]
  },
  {
   "cell_type": "code",
   "execution_count": 58,
   "metadata": {
    "collapsed": false
   },
   "outputs": [
    {
     "data": {
      "text/plain": [
       "2"
      ]
     },
     "execution_count": 58,
     "metadata": {},
     "output_type": "execute_result"
    }
   ],
   "source": [
    "s.delete(mary)\n",
    "mary.id"
   ]
  },
  {
   "cell_type": "code",
   "execution_count": 59,
   "metadata": {
    "collapsed": false
   },
   "outputs": [
    {
     "data": {
      "text/plain": [
       "<__main__.User at 0x5b06470>"
      ]
     },
     "execution_count": 59,
     "metadata": {},
     "output_type": "execute_result"
    }
   ],
   "source": [
    "s.commit()\n",
    "mary"
   ]
  },
  {
   "cell_type": "code",
   "execution_count": 60,
   "metadata": {
    "collapsed": false
   },
   "outputs": [
    {
     "data": {
      "text/plain": [
       "2"
      ]
     },
     "execution_count": 60,
     "metadata": {},
     "output_type": "execute_result"
    }
   ],
   "source": [
    "mary.id"
   ]
  },
  {
   "cell_type": "code",
   "execution_count": 61,
   "metadata": {
    "collapsed": false
   },
   "outputs": [
    {
     "data": {
      "text/plain": [
       "False"
      ]
     },
     "execution_count": 61,
     "metadata": {},
     "output_type": "execute_result"
    }
   ],
   "source": [
    "mary._sa_instance_state.persistent"
   ]
  },
  {
   "cell_type": "markdown",
   "metadata": {},
   "source": [
    "Since Mary has been marked for deletion by the session and the deletion has been committed by the session into the database, we won't be able to find Mary in the database anymore."
   ]
  },
  {
   "cell_type": "code",
   "execution_count": 62,
   "metadata": {
    "collapsed": false
   },
   "outputs": [],
   "source": [
    "# mary = s.query(User).filter(User.name == 'Mary').one() # 會出錯，因為已經刪除，所以查不到"
   ]
  },
  {
   "cell_type": "markdown",
   "metadata": {},
   "source": [
    "### Session Object States\n",
    "\n",
    "Since we have already seen an Session object in action, it's important to also know the **four different states** of session objects:\n",
    "\n",
    "1. Transient: an instance that's not included in a session and has not been persisted to the database.\n",
    "2. Pending: an instance that has been added to a session but not persisted to a database yet. It will be persisted to the database in the next **session.commit()**.\n",
    "3. Persistent: an instance that has been persisted to the database and also included in a session. You can make a model object persistent by **committing** it to the database or **query** it from the database.\n",
    "4. Detached: an instance that has been persisted to the database but not included in any sessions.  \n",
    "\n",
    "Let's use sqlalchemy.inspect to take a look at the states of a new User object david."
   ]
  },
  {
   "cell_type": "code",
   "execution_count": 63,
   "metadata": {
    "collapsed": false
   },
   "outputs": [
    {
     "name": "stdout",
     "output_type": "stream",
     "text": [
      "Transient: True; Pending: False; Persistent: False; Detached: False\n"
     ]
    }
   ],
   "source": [
    "from sqlalchemy import inspect\n",
    "david = User(name='David')\n",
    "ins = inspect(david)\n",
    "print('Transient: {0}; Pending: {1}; Persistent: {2}; Detached: {3}'.format(ins.transient, \n",
    "                                                                            ins.pending, \n",
    "                                                                            ins.persistent, \n",
    "                                                                            ins.detached))"
   ]
  },
  {
   "cell_type": "code",
   "execution_count": 64,
   "metadata": {
    "collapsed": false
   },
   "outputs": [
    {
     "name": "stdout",
     "output_type": "stream",
     "text": [
      "Transient: False; Pending: True; Persistent: False; Detached: False\n"
     ]
    }
   ],
   "source": [
    "s.add(david)\n",
    "print('Transient: {0}; Pending: {1}; Persistent: {2}; Detached: {3}'.format(ins.transient, \n",
    "                                                                            ins.pending, \n",
    "                                                                            ins.persistent, \n",
    "                                                                            ins.detached))"
   ]
  },
  {
   "cell_type": "code",
   "execution_count": 65,
   "metadata": {
    "collapsed": false
   },
   "outputs": [
    {
     "name": "stdout",
     "output_type": "stream",
     "text": [
      "Transient: False; Pending: False; Persistent: True; Detached: False\n"
     ]
    }
   ],
   "source": [
    "s.commit()\n",
    "print('Transient: {0}; Pending: {1}; Persistent: {2}; Detached: {3}'.format(ins.transient, \n",
    "                                                                            ins.pending, \n",
    "                                                                            ins.persistent, \n",
    "                                                                            ins.detached))"
   ]
  },
  {
   "cell_type": "code",
   "execution_count": 66,
   "metadata": {
    "collapsed": false
   },
   "outputs": [
    {
     "name": "stdout",
     "output_type": "stream",
     "text": [
      "Transient: False; Pending: False; Persistent: False; Detached: True\n"
     ]
    }
   ],
   "source": [
    "s.close()\n",
    "print('Transient: {0}; Pending: {1}; Persistent: {2}; Detached: {3}'.format(ins.transient, \n",
    "                                                                            ins.pending, \n",
    "                                                                            ins.persistent, \n",
    "                                                                            ins.detached))"
   ]
  },
  {
   "cell_type": "markdown",
   "metadata": {},
   "source": [
    "Notice the change of david's state progressing from Transient to Detached at each step of the insertion process. It's important to become familiar with these states of the objects because a slight misunderstanding may lead to hard-to-find bugs in a program."
   ]
  },
  {
   "cell_type": "markdown",
   "metadata": {},
   "source": [
    "#### Scoped Session vs. Normal Session\n",
    "\n",
    "So far, the session object we constructed from the sessionmaker() call and used to communicate with our database is a **normal session**. If you call sessionmaker() a second time, you will get a new session object whose states are independent of the previous session. For example, suppose we have two session objects constructed in the following way:"
   ]
  },
  {
   "cell_type": "code",
   "execution_count": 67,
   "metadata": {
    "collapsed": true
   },
   "outputs": [],
   "source": [
    "from sqlalchemy import Column, String, Integer, ForeignKey\n",
    "from sqlalchemy.ext.declarative import declarative_base\n",
    " \n",
    "Base = declarative_base()\n",
    " \n",
    "class User(Base):\n",
    "    __tablename__ = 'user'\n",
    "    id = Column(Integer, primary_key=True)\n",
    "    name = Column(String)\n",
    " \n",
    " \n",
    "from sqlalchemy import create_engine\n",
    "engine = create_engine('sqlite:///')\n",
    " \n",
    "from sqlalchemy.orm import sessionmaker\n",
    "session = sessionmaker()\n",
    "session.configure(bind=engine)\n",
    "Base.metadata.create_all(engine)\n",
    " \n",
    "# Construct the first session object\n",
    "s1 = session()\n",
    "# Construct the second session object\n",
    "s2 = session()"
   ]
  },
  {
   "cell_type": "markdown",
   "metadata": {},
   "source": [
    "Then, we won't be able to add the same User object to both s1 and s2 at the same time. In other words, an object can only be **attached** at most one unique session object."
   ]
  },
  {
   "cell_type": "code",
   "execution_count": 68,
   "metadata": {
    "collapsed": false
   },
   "outputs": [],
   "source": [
    "jessica = User(name='Jessica')\n",
    "s1.add(jessica)\n",
    "# s2.add(jessica) # InvalidRequestError: Object '<User at 0x5b122b0>' is already attached to session '3' (this is '4')"
   ]
  },
  {
   "cell_type": "markdown",
   "metadata": {},
   "source": [
    "If the session objects are retrieved from a **scoped_session** object, however, then we don't have such an issue since the scoped_session object maintains a registry for the same session object."
   ]
  },
  {
   "cell_type": "code",
   "execution_count": 69,
   "metadata": {
    "collapsed": false
   },
   "outputs": [
    {
     "data": {
      "text/plain": [
       "True"
      ]
     },
     "execution_count": 69,
     "metadata": {},
     "output_type": "execute_result"
    }
   ],
   "source": [
    "from sqlalchemy.orm import scoped_session\n",
    "\n",
    "session_factory = sessionmaker(bind=engine)\n",
    "session = scoped_session(session_factory)\n",
    "\n",
    "s1 = session()\n",
    "s2 = session()\n",
    "\n",
    "jessica = User(name='Jessica')\n",
    "s1.add(jessica)\n",
    "s2.add(jessica)\n",
    "\n",
    "s1 is s2 "
   ]
  },
  {
   "cell_type": "code",
   "execution_count": 70,
   "metadata": {
    "collapsed": false
   },
   "outputs": [
    {
     "data": {
      "text/plain": [
       "<__main__.User at 0x5b57ac8>"
      ]
     },
     "execution_count": 70,
     "metadata": {},
     "output_type": "execute_result"
    }
   ],
   "source": [
    "s1.commit()\n",
    "s2.query(User).filter(User.name == 'Jessica').one()"
   ]
  },
  {
   "cell_type": "markdown",
   "metadata": {},
   "source": [
    "Notice that s1 and s2 are the same session object since they are both retrieved from a scoped_session object who maintains a reference to the same session object."
   ]
  },
  {
   "cell_type": "markdown",
   "metadata": {},
   "source": [
    "#### Summary and Tips\n",
    "\n",
    "In this article, we reviewed how to use SQLAlchemy's Session and the four different states of a model object.  \n",
    "Since unit-of-work is a core concept in SQLAlchemy, it's crucial to fully understand and be familiar with how to use Session and the four different states of a model object.  \n",
    "In the next article, we will show you how to utilize the Session to manage complex model objects and avoid common bugs."
   ]
  }
 ],
 "metadata": {
  "kernelspec": {
   "display_name": "Python 3",
   "language": "python",
   "name": "python3"
  },
  "language_info": {
   "codemirror_mode": {
    "name": "ipython",
    "version": 3
   },
   "file_extension": ".py",
   "mimetype": "text/x-python",
   "name": "python",
   "nbconvert_exporter": "python",
   "pygments_lexer": "ipython3",
   "version": "3.5.1"
  }
 },
 "nbformat": 4,
 "nbformat_minor": 0
}
